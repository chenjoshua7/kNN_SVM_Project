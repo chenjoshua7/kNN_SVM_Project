{
 "cells": [
  {
   "cell_type": "markdown",
   "id": "5c68e99c",
   "metadata": {},
   "source": [
    "<b> Joshua Chen <br>\n",
    "Professor Jack Jewsom <br>\n",
    "Computation Machine Learning <br>\n",
    "</b>"
   ]
  },
  {
   "cell_type": "code",
   "execution_count": 1,
   "id": "05ab94c9",
   "metadata": {},
   "outputs": [],
   "source": [
    "import pandas as pd\n",
    "import seaborn as sns\n",
    "import numpy as np\n",
    "import matplotlib.pyplot as plt\n",
    "from datetime import datetime, timedelta\n",
    "from sklearn import preprocessing\n",
    "from sklearn.preprocessing import LabelEncoder\n",
    "from sklearn.model_selection import train_test_split\n",
    "from sklearn.neighbors import NearestNeighbors, KNeighborsClassifier\n",
    "from sklearn.model_selection import GridSearchCV\n",
    "from sklearn.metrics import precision_score,confusion_matrix, ConfusionMatrixDisplay, accuracy_score\n",
    "from sklearn.impute import SimpleImputer\n",
    "from helper_functions import GridSearch_table_plot\n",
    "from sklearn.metrics import roc_auc_score, roc_curve, auc, confusion_matrix\n",
    "import random"
   ]
  },
  {
   "cell_type": "markdown",
   "id": "21a81414",
   "metadata": {},
   "source": [
    "## Setting Up The Data"
   ]
  },
  {
   "cell_type": "markdown",
   "id": "696bc026",
   "metadata": {},
   "source": [
    "#### Import the Data"
   ]
  },
  {
   "cell_type": "markdown",
   "id": "dcef4cff",
   "metadata": {},
   "source": [
    "Setting the seed, importing the data. icd9deadly and deadly are two data sets I made that include the unique words in icd9 and diagnosis respectively, their total counts, and the dead counts. I split the replaced ICD9 codes with the short diagnosis and then separated the words in columns by spaces. From this, I was able to get the means and counts for each disease. This was for my own exploration. I tried to use this but it wasn't particularly helpful, although it was fun to explore."
   ]
  },
  {
   "cell_type": "code",
   "execution_count": 2,
   "id": "52eaaca5",
   "metadata": {},
   "outputs": [],
   "source": [
    "random.seed(1234)\n",
    "trainset = pd.read_csv(\"data/mimic_train.csv\")\n",
    "testset = pd.read_csv(\"data/mimic_test_death.csv\")\n",
    "metadata = pd.read_csv('data/extra_data/MIMIC_diagnoses.csv')\n",
    "icd9deadly = pd.read_csv('icd9deadly.csv', index_col = 0)\n",
    "deadly =pd.read_csv('deadly.csv', index_col= 0)"
   ]
  },
  {
   "cell_type": "markdown",
   "id": "43d583a5",
   "metadata": {},
   "source": [
    "Features I chose to work with and loading the datasets."
   ]
  },
  {
   "cell_type": "code",
   "execution_count": 3,
   "id": "b20637e8",
   "metadata": {},
   "outputs": [],
   "source": [
    "features = ['subject_id','hadm_id','HeartRate_Min','HeartRate_Max', 'HeartRate_Mean', 'SysBP_Min', \n",
    "        'SysBP_Max','SysBP_Mean', 'DiasBP_Min', 'DiasBP_Max', 'DiasBP_Mean',\n",
    "        'MeanBP_Min', 'MeanBP_Max', 'MeanBP_Mean',\n",
    "        'SpO2_Min','SpO2_Max', 'SpO2_Mean', 'Glucose_Min', 'Glucose_Max',\n",
    "        'Glucose_Mean','RespRate_Min', 'RespRate_Max', 'RespRate_Mean','TempC_Min', 'TempC_Max', 'TempC_Mean', \n",
    "        'Diff','DIAGNOSIS', 'DOB','ADMITTIME','ADMISSION_TYPE', 'ETHNICITY', 'GENDER', 'INSURANCE', 'FIRST_CAREUNIT']\n",
    "\n",
    "X_raw = trainset[features]\n",
    "y_tab = trainset['HOSPITAL_EXPIRE_FLAG']\n",
    "test = testset[features]\n",
    "X_shape = X_raw.copy()\n",
    "X_split = X_raw.copy()"
   ]
  },
  {
   "cell_type": "markdown",
   "metadata": {},
   "source": [
    "I structured my notebook so I can choose whether or not to do a train, test split. I was submitting on Kaggle after every time I did something, and wanted a more concrete way to test any changes other than just guessing and checking with Kaggle. I ensured that there is no data leakage in this notebook. For example, if I choose to do a train test split, the means for ICD9 data and diagnosis are made only with the training data."
   ]
  },
  {
   "cell_type": "code",
   "execution_count": 4,
   "id": "f4a7b6b2",
   "metadata": {},
   "outputs": [],
   "source": [
    "X_shape, X_test, y, y_test = train_test_split(X_shape, y_tab, test_size=0.1, random_state=31415)\n",
    "y1 = y.copy()\n"
   ]
  },
  {
   "cell_type": "markdown",
   "id": "8b4ae354",
   "metadata": {},
   "source": [
    "<b> Comment these out if you want to do Train Test Split </b>\n",
    "\n",
    "Simple way to alternate between train, test split and training on the whole dataseet."
   ]
  },
  {
   "cell_type": "code",
   "execution_count": 5,
   "id": "31a4ef61",
   "metadata": {},
   "outputs": [],
   "source": [
    "X_shape = X_raw.copy()\n",
    "y = y_tab.copy()\n",
    "y1 = y_tab.copy()"
   ]
  },
  {
   "cell_type": "markdown",
   "id": "cce03e30",
   "metadata": {},
   "source": [
    "Just making extra copies for when I want to try different things out."
   ]
  },
  {
   "cell_type": "code",
   "execution_count": 6,
   "id": "668d8dff",
   "metadata": {},
   "outputs": [],
   "source": [
    "X_shape1 = X_shape.copy()\n",
    "X_test1 = X_test.copy()\n",
    "test1 = test.copy()"
   ]
  },
  {
   "cell_type": "markdown",
   "id": "ce7091ef",
   "metadata": {},
   "source": [
    "## PCA on Vitals"
   ]
  },
  {
   "cell_type": "markdown",
   "metadata": {},
   "source": [
    "Because kNN, after scaling, weights each dimension equally, I was concerned that there was an unbalanced number of columns dedicated purely to vitals. For example, there are 9 columns dedicated to blood pressure and, originally, only one dedicated to diagnosis. Therefore, I decided to try PCA to reduce dimensionality. For kNN, my best predictions were using PCA. However, for SVM, my best results were if I neglected PCA. I assume this is because, as kNN is worse at handling noise and extra dimensions, reducing dimensionality is worth some of the information lost. SVM handles the extra dimensions better so I assume it's not worth the information lost."
   ]
  },
  {
   "cell_type": "code",
   "execution_count": 7,
   "id": "3ca9fc62",
   "metadata": {},
   "outputs": [
    {
     "data": {
      "text/plain": [
       "array([0.20921801, 0.14788374, 0.10620169, 0.08558184, 0.07691429,\n",
       "       0.07068737, 0.05937822, 0.03638062, 0.03273919, 0.03100623,\n",
       "       0.02543027, 0.02284497, 0.01950411, 0.01548056, 0.01333253,\n",
       "       0.01172303, 0.00902808, 0.00783833, 0.00657567, 0.00328627,\n",
       "       0.0027944 , 0.00251446, 0.00245123, 0.00120487])"
      ]
     },
     "execution_count": 7,
     "metadata": {},
     "output_type": "execute_result"
    }
   ],
   "source": [
    "from sklearn.decomposition import PCA, IncrementalPCA\n",
    "from sklearn.preprocessing import StandardScaler, RobustScaler, MinMaxScaler\n",
    "\n",
    "selected_columns = X_shape.iloc[:, range(2,26)]\n",
    "\n",
    "pca_scaler = StandardScaler()\n",
    "\n",
    "pca_scaler.fit(selected_columns)\n",
    "X_standardized = pca_scaler.transform(selected_columns)\n",
    "imp_mean = SimpleImputer(missing_values = np.nan, strategy='mean')\n",
    "X_standardized = pd.DataFrame(imp_mean.fit_transform(X_standardized))\n",
    "\n",
    "n_components = 24\n",
    "pca = PCA(n_components=n_components)\n",
    "pca.fit(X_standardized)\n",
    "subset_transformed = pca.transform(X_standardized)\n",
    "\n",
    "explained_variance = pca.explained_variance_ratio_\n",
    "explained_variance"
   ]
  },
  {
   "cell_type": "markdown",
   "metadata": {},
   "source": [
    "I graphed the variances of the PCA comonponents to decide which to keep. Here, it was a bit difficut to idenity the elbow but testing confirmed that 8 components was prefered. This makes sense as there are 8 vitals, each with its own mean, max, and minimum."
   ]
  },
  {
   "cell_type": "code",
   "execution_count": 8,
   "id": "26cf9dca",
   "metadata": {},
   "outputs": [
    {
     "data": {
      "image/png": "[encoded data removed]",
      "text/plain": [
       "<Figure size 640x480 with 1 Axes>"
      ]
     },
     "metadata": {},
     "output_type": "display_data"
    }
   ],
   "source": [
    "plt.plot(explained_variance)\n",
    "plt.show()"
   ]
  },
  {
   "cell_type": "markdown",
   "metadata": {},
   "source": [
    "Simple way to choose how many components that you would like to keep. Just add or subtract columns via names below."
   ]
  },
  {
   "cell_type": "code",
   "execution_count": 9,
   "metadata": {},
   "outputs": [],
   "source": [
    "pca_cols = ['pca1','pca2','pca3','pca4','pca5','pca6','pca7','pca8']"
   ]
  },
  {
   "cell_type": "markdown",
   "metadata": {},
   "source": [
    "Replacing vitals columns in training data with PCA columns. I also tried transforming PCA exponentially or logarithmically just to see if it was beneficial but it proved meainingless."
   ]
  },
  {
   "cell_type": "code",
   "execution_count": 10,
   "id": "90f7b642",
   "metadata": {},
   "outputs": [],
   "source": [
    "Xs = pd.DataFrame(subset_transformed)\n",
    "\n",
    "Xs = Xs.iloc[:,:len(pca_cols)]\n",
    "Xs.columns = pca_cols\n",
    "#Xs = np.log(Xs)\n",
    "#Xs = np.exp(Xs)\n",
    "X_id = X_shape.iloc[:,:2]\n",
    "X_back = X_shape.iloc[:,26:]\n",
    "X_id = X_id.reset_index(drop=True)\n",
    "Xs = Xs.reset_index(drop=True)\n",
    "X_back = X_back.reset_index(drop=True)\n",
    "X_shape = pd.concat([X_id, Xs,X_back], axis=1)"
   ]
  },
  {
   "cell_type": "markdown",
   "metadata": {},
   "source": [
    "Doing the same exact thing for the testing set, making sure to fit-transform on the training set."
   ]
  },
  {
   "cell_type": "code",
   "execution_count": 11,
   "id": "a5d55f7f",
   "metadata": {},
   "outputs": [
    {
     "data": {
      "text/plain": [
       "array([0.20921801, 0.14788374, 0.10620169, 0.08558184, 0.07691429,\n",
       "       0.07068737, 0.05937822, 0.03638062, 0.03273919, 0.03100623,\n",
       "       0.02543027, 0.02284497, 0.01950411, 0.01548056, 0.01333253,\n",
       "       0.01172303, 0.00902808, 0.00783833, 0.00657567, 0.00328627,\n",
       "       0.0027944 , 0.00251446, 0.00245123, 0.00120487])"
      ]
     },
     "execution_count": 11,
     "metadata": {},
     "output_type": "execute_result"
    }
   ],
   "source": [
    "Xtest_selected_columns = X_test.iloc[:, range(2,26)]\n",
    "\n",
    "Xtest_standardized = pca_scaler.transform(Xtest_selected_columns)\n",
    "\n",
    "imp_mean = SimpleImputer(missing_values = np.nan, strategy='mean')\n",
    "test_standardized = pd.DataFrame(imp_mean.fit_transform(Xtest_standardized))\n",
    "\n",
    "Xtsubset_pca = pca.transform(test_standardized)\n",
    "\n",
    "explained_variance = pca.explained_variance_ratio_\n",
    "explained_variance\n"
   ]
  },
  {
   "cell_type": "code",
   "execution_count": 12,
   "id": "038d26a3",
   "metadata": {},
   "outputs": [],
   "source": [
    "Xt = pd.DataFrame(Xtsubset_pca)\n",
    "Xt = Xt.iloc[:,:len(pca_cols)]\n",
    "Xt.columns = pca_cols\n",
    "#Xt = np.log(Xt)\n",
    "#Xt = np.exp(Xt)\n",
    "Xt_id = X_test.iloc[:,:2]\n",
    "Xt_back = X_test.iloc[:,26:]\n",
    "Xt_id = Xt_id.reset_index(drop=True)\n",
    "Xt = Xt.reset_index(drop=True)\n",
    "Xt_back = Xt_back.reset_index(drop=True)\n",
    "X_test = pd.concat([Xt_id, Xt, Xt_back], axis=1)\n"
   ]
  },
  {
   "cell_type": "markdown",
   "metadata": {},
   "source": [
    "Doing the same thing again for the final Kaggle testing set."
   ]
  },
  {
   "cell_type": "code",
   "execution_count": 13,
   "id": "723c551c",
   "metadata": {},
   "outputs": [
    {
     "data": {
      "text/plain": [
       "array([0.20921801, 0.14788374, 0.10620169, 0.08558184, 0.07691429,\n",
       "       0.07068737, 0.05937822, 0.03638062, 0.03273919, 0.03100623,\n",
       "       0.02543027, 0.02284497, 0.01950411, 0.01548056, 0.01333253,\n",
       "       0.01172303, 0.00902808, 0.00783833, 0.00657567, 0.00328627,\n",
       "       0.0027944 , 0.00251446, 0.00245123, 0.00120487])"
      ]
     },
     "execution_count": 13,
     "metadata": {},
     "output_type": "execute_result"
    }
   ],
   "source": [
    "test_selected_columns = test.iloc[:, range(2,26)]\n",
    "\n",
    "test_standardized = pca_scaler.transform(test_selected_columns)\n",
    "\n",
    "imp_mean = SimpleImputer(missing_values = np.nan, strategy='mean')\n",
    "test_standardized = pd.DataFrame(imp_mean.fit_transform(test_standardized))\n",
    "\n",
    "testsubset_pca = pca.transform(test_standardized)\n",
    "\n",
    "explained_variance = pca.explained_variance_ratio_\n",
    "explained_variance"
   ]
  },
  {
   "cell_type": "markdown",
   "metadata": {},
   "source": [
    "Plotting the explained variance of the tesitng set."
   ]
  },
  {
   "cell_type": "code",
   "execution_count": 14,
   "id": "42b866c3",
   "metadata": {},
   "outputs": [
    {
     "data": {
      "image/png": "[encoded data removed]",
      "text/plain": [
       "<Figure size 640x480 with 1 Axes>"
      ]
     },
     "metadata": {},
     "output_type": "display_data"
    }
   ],
   "source": [
    "plt.plot(explained_variance)\n",
    "plt.show()"
   ]
  },
  {
   "cell_type": "code",
   "execution_count": 15,
   "id": "35e2b659",
   "metadata": {},
   "outputs": [],
   "source": [
    "hi = pd.DataFrame(testsubset_pca)\n",
    "hi = hi.iloc[:,:len(pca_cols)]\n",
    "hi.columns = pca_cols\n",
    "#hi = np.log(hi)\n",
    "#hi = np.exp(Xt)\n",
    "test_id = test.iloc[:,:2]\n",
    "test_back = test.iloc[:,26:]\n",
    "test = test_id.reset_index(drop=True)\n",
    "hi = hi.reset_index(drop=True)\n",
    "test_back = test_back.reset_index(drop=True)\n",
    "test = pd.concat([test_id, hi,test_back], axis=1)"
   ]
  },
  {
   "cell_type": "markdown",
   "id": "a5c6d7b6",
   "metadata": {},
   "source": [
    "<b>Comment out if I don't want to use PCA.</b>"
   ]
  },
  {
   "cell_type": "code",
   "execution_count": 16,
   "id": "8928c373",
   "metadata": {},
   "outputs": [],
   "source": [
    "X_shape1 = X_shape.copy()\n",
    "X_test1 = X_test.copy()\n",
    "test1 = test.copy()"
   ]
  },
  {
   "cell_type": "markdown",
   "id": "f437afc4",
   "metadata": {},
   "source": [
    "## Disease Dummies"
   ]
  },
  {
   "cell_type": "markdown",
   "metadata": {},
   "source": [
    "This was my original idea for the diagnosis column. Orginially, I explored the dataset I created of unique elements within the Diagnosis column. I noticed the some things, like Penumonia, would appear frequently but sometimes within other contexts. Therefore, I selected some deadly diseases that had significant number of people affected and created a dummy column for them. Originally this was around 12 different diseases. However, this proved an ineffective way to deal with diagnosis as so much information is lost.\n",
    "\n",
    "The dummmies chose below ended up being some of the top killers as listed by CDC 2012 data. This never ended up being particularly effective in my model and was left largely unused."
   ]
  },
  {
   "cell_type": "code",
   "execution_count": 17,
   "metadata": {},
   "outputs": [],
   "source": [
    "words = (\"HEART\",\"CANCER\",\"STROKE\",\"PNEUMO\",\"DIABETES\",\"KIDNEY\")\n",
    "\n",
    "def disease_dum(df_, words):\n",
    "    df = df_.copy()\n",
    "    for word in words:\n",
    "        df[word] = df['DIAGNOSIS'].str.contains(word).astype(int)\n",
    "    return df\n",
    "\n",
    "#Want to see if the string contains the word."
   ]
  },
  {
   "cell_type": "markdown",
   "id": "d5519aa5",
   "metadata": {},
   "source": [
    "## Diagnosis"
   ]
  },
  {
   "cell_type": "markdown",
   "metadata": {},
   "source": [
    "Created a dictionary to mean encode diagnoses. I don't like how some things that are similar are not grouped together, which originally was the reason I separated the strings originally. However, this proved much more effective than what I was doing. Although, as always with mean ecoding, I am overfitting and unable to accomadate new diseases."
   ]
  },
  {
   "cell_type": "code",
   "execution_count": 18,
   "id": "cea96082",
   "metadata": {},
   "outputs": [],
   "source": [
    "count = X_shape['DIAGNOSIS'].value_counts()\n",
    "\n",
    "y1 = y.reindex(X_shape.index)\n",
    "\n",
    "ddead = X_shape[y1 == 1]['DIAGNOSIS'].value_counts()\n",
    "\n",
    "ratio = ddead/count\n",
    "ratio.fillna(0, inplace= True)\n",
    "merged_diag = ratio.to_dict()"
   ]
  },
  {
   "cell_type": "markdown",
   "id": "33b9ba5d",
   "metadata": {},
   "source": [
    "## Metadata and ICD9"
   ]
  },
  {
   "cell_type": "markdown",
   "metadata": {},
   "source": [
    "For ICD9, I also mean encoded death ratios. I collapsed the metadata by the sequence numbers so that I could add columns for each subsequent person."
   ]
  },
  {
   "cell_type": "code",
   "execution_count": 19,
   "id": "95cb9481",
   "metadata": {},
   "outputs": [],
   "source": [
    "pivoted_df = metadata.pivot(index=['SUBJECT_ID', 'HADM_ID'], columns = ['SEQ_NUM'], values='ICD9_CODE')\n",
    "pivoted_df.reset_index(inplace=True)\n",
    "pivoted_df = pivoted_df.reset_index(drop=True)"
   ]
  },
  {
   "cell_type": "markdown",
   "metadata": {},
   "source": [
    "Here, I am merging so that I can create a dictionary with all the mean values of any ICD9 in the data. Again, my notebook is set up to prevent data leakage for train test splits. Only ICD9 in the training set will be used to create the dictionary and calculate death percentages."
   ]
  },
  {
   "cell_type": "code",
   "execution_count": 20,
   "id": "59db047e",
   "metadata": {},
   "outputs": [],
   "source": [
    "X_shape.rename(columns={'subject_id': 'SUBJECT_ID', 'hadm_id': 'HADM_ID'}, inplace=True)\n",
    "X_dict = X_shape.merge(pivoted_df, on=['SUBJECT_ID', 'HADM_ID'], how='left')"
   ]
  },
  {
   "cell_type": "code",
   "execution_count": 21,
   "id": "2f8dcf4e",
   "metadata": {},
   "outputs": [],
   "source": [
    "just_icd9 = X_dict.iloc[:,-40:]\n",
    "all_icd9_series = just_icd9.stack()\n",
    "icd9_counts = all_icd9_series.value_counts()\n",
    "\n",
    "dead_icd9 = just_icd9[y1 == 1].stack()\n",
    "dead = dead_icd9.value_counts()\n",
    "\n",
    "ratio = dead/icd9_counts\n",
    "ratio.fillna(0, inplace= True)\n",
    "merged = ratio.to_dict()"
   ]
  },
  {
   "cell_type": "markdown",
   "metadata": {},
   "source": [
    "I noticed that the ICD9s were not ordered by greatest percentage. I am not sure if there was a medical reason as to why they are ordered. I believe the first ICD9 is the primary diagnosis. However, I thought it made sense to group someones most deadly diangoses in the same column to compare. This was not something I am completely sold on due to my lack of medical knowledge but it did marginally improve predictions."
   ]
  },
  {
   "cell_type": "code",
   "execution_count": 22,
   "metadata": {},
   "outputs": [
    {
     "name": "stderr",
     "output_type": "stream",
     "text": [
      "/var/folders/7g/swv044q57cq378zvy5rc1fj80000gn/T/ipykernel_54518/2802383290.py:3: DeprecationWarning: In a future version, `df.iloc[:, i] = newvals` will attempt to set the values inplace instead of always setting a new array. To retain the old behavior, use either `df[df.columns[i]] = newvals` or, if columns are non-unique, `df.isetitem(i, newvals)`\n",
      "  pivoted_df.iloc[:,3:] = icd9_mapped\n"
     ]
    }
   ],
   "source": [
    "icd9_mapped= pivoted_df.iloc[:,3:].applymap(merged.get)\n",
    "icd9_mapped = icd9_mapped.apply(lambda row: sorted(row, reverse=True), axis=1, result_type='broadcast')\n",
    "pivoted_df.iloc[:,3:] = icd9_mapped"
   ]
  },
  {
   "cell_type": "markdown",
   "metadata": {},
   "source": [
    "I included some exploratory columns to ICD9, as I assumed that the diagnoses probably had the most predictive power. I included a number of things that I thought might be helpful and saw which was were most helpful with predictions. However, in my last step, I did rearrange ICD9 diagnoses from greatest to least so Max would be redundant to the first column of ICD9 diagnoses. However, it did benefit my out of sample score. I assume this is because I am artifically weighting the most deadly disease greater in kNN. I do try to weight features later."
   ]
  },
  {
   "cell_type": "code",
   "execution_count": 23,
   "metadata": {},
   "outputs": [],
   "source": [
    "max_values = icd9_mapped.max(axis=1)\n",
    "mean_values = icd9_mapped.mean(axis=1)\n",
    "std_deviation_values = icd9_mapped.std(axis=1)\n",
    "count_non_null_values = icd9_mapped.count(axis=1)\n",
    "variance = icd9_mapped.var(axis=1)\n",
    "\n",
    "\n",
    "summary_df = pd.DataFrame({\n",
    "    'Max': max_values,\n",
    "    'Mean': mean_values,\n",
    "    'StdDev': std_deviation_values,\n",
    "    'Var': variance,\n",
    "    'Count': count_non_null_values\n",
    "})"
   ]
  },
  {
   "cell_type": "code",
   "execution_count": 24,
   "metadata": {},
   "outputs": [],
   "source": [
    "pivoted_df = pd.concat([pivoted_df, summary_df], axis=1)"
   ]
  },
  {
   "cell_type": "code",
   "execution_count": 25,
   "metadata": {},
   "outputs": [
    {
     "data": {
      "text/html": [
       "<div>\n",
       "<style scoped>\n",
       "    .dataframe tbody tr th:only-of-type {\n",
       "        vertical-align: middle;\n",
       "    }\n",
       "\n",
       "    .dataframe tbody tr th {\n",
       "        vertical-align: top;\n",
       "    }\n",
       "\n",
       "    .dataframe thead th {\n",
       "        text-align: right;\n",
       "    }\n",
       "</style>\n",
       "<table border=\"1\" class=\"dataframe\">\n",
       "  <thead>\n",
       "    <tr style=\"text-align: right;\">\n",
       "      <th></th>\n",
       "      <th>SUBJECT_ID</th>\n",
       "      <th>HADM_ID</th>\n",
       "      <th>NaN</th>\n",
       "      <th>1.0</th>\n",
       "      <th>2.0</th>\n",
       "      <th>3.0</th>\n",
       "      <th>4.0</th>\n",
       "      <th>5.0</th>\n",
       "      <th>6.0</th>\n",
       "      <th>7.0</th>\n",
       "      <th>...</th>\n",
       "      <th>35.0</th>\n",
       "      <th>36.0</th>\n",
       "      <th>37.0</th>\n",
       "      <th>38.0</th>\n",
       "      <th>39.0</th>\n",
       "      <th>Max</th>\n",
       "      <th>Mean</th>\n",
       "      <th>StdDev</th>\n",
       "      <th>Var</th>\n",
       "      <th>Count</th>\n",
       "    </tr>\n",
       "  </thead>\n",
       "  <tbody>\n",
       "    <tr>\n",
       "      <th>0</th>\n",
       "      <td>2</td>\n",
       "      <td>163353</td>\n",
       "      <td>NaN</td>\n",
       "      <td>NaN</td>\n",
       "      <td>0.000000</td>\n",
       "      <td>NaN</td>\n",
       "      <td>NaN</td>\n",
       "      <td>NaN</td>\n",
       "      <td>NaN</td>\n",
       "      <td>NaN</td>\n",
       "      <td>...</td>\n",
       "      <td>NaN</td>\n",
       "      <td>NaN</td>\n",
       "      <td>NaN</td>\n",
       "      <td>NaN</td>\n",
       "      <td>NaN</td>\n",
       "      <td>0.000000</td>\n",
       "      <td>0.000000</td>\n",
       "      <td>NaN</td>\n",
       "      <td>NaN</td>\n",
       "      <td>1</td>\n",
       "    </tr>\n",
       "    <tr>\n",
       "      <th>1</th>\n",
       "      <td>3</td>\n",
       "      <td>145834</td>\n",
       "      <td>NaN</td>\n",
       "      <td>0.534290</td>\n",
       "      <td>0.346667</td>\n",
       "      <td>0.342240</td>\n",
       "      <td>0.183445</td>\n",
       "      <td>0.154391</td>\n",
       "      <td>0.140284</td>\n",
       "      <td>0.132517</td>\n",
       "      <td>...</td>\n",
       "      <td>NaN</td>\n",
       "      <td>NaN</td>\n",
       "      <td>NaN</td>\n",
       "      <td>NaN</td>\n",
       "      <td>NaN</td>\n",
       "      <td>0.534290</td>\n",
       "      <td>0.231113</td>\n",
       "      <td>0.144532</td>\n",
       "      <td>0.020889</td>\n",
       "      <td>9</td>\n",
       "    </tr>\n",
       "    <tr>\n",
       "      <th>2</th>\n",
       "      <td>4</td>\n",
       "      <td>185777</td>\n",
       "      <td>NaN</td>\n",
       "      <td>0.327869</td>\n",
       "      <td>0.246617</td>\n",
       "      <td>0.222222</td>\n",
       "      <td>0.176471</td>\n",
       "      <td>0.147920</td>\n",
       "      <td>0.094675</td>\n",
       "      <td>0.094118</td>\n",
       "      <td>...</td>\n",
       "      <td>NaN</td>\n",
       "      <td>NaN</td>\n",
       "      <td>NaN</td>\n",
       "      <td>NaN</td>\n",
       "      <td>NaN</td>\n",
       "      <td>0.327869</td>\n",
       "      <td>0.164449</td>\n",
       "      <td>0.086359</td>\n",
       "      <td>0.007458</td>\n",
       "      <td>9</td>\n",
       "    </tr>\n",
       "    <tr>\n",
       "      <th>3</th>\n",
       "      <td>5</td>\n",
       "      <td>178980</td>\n",
       "      <td>NaN</td>\n",
       "      <td>NaN</td>\n",
       "      <td>0.000000</td>\n",
       "      <td>NaN</td>\n",
       "      <td>NaN</td>\n",
       "      <td>NaN</td>\n",
       "      <td>NaN</td>\n",
       "      <td>NaN</td>\n",
       "      <td>...</td>\n",
       "      <td>NaN</td>\n",
       "      <td>NaN</td>\n",
       "      <td>NaN</td>\n",
       "      <td>NaN</td>\n",
       "      <td>NaN</td>\n",
       "      <td>0.000000</td>\n",
       "      <td>0.000000</td>\n",
       "      <td>NaN</td>\n",
       "      <td>NaN</td>\n",
       "      <td>1</td>\n",
       "    </tr>\n",
       "    <tr>\n",
       "      <th>4</th>\n",
       "      <td>6</td>\n",
       "      <td>107064</td>\n",
       "      <td>NaN</td>\n",
       "      <td>0.207607</td>\n",
       "      <td>0.200000</td>\n",
       "      <td>0.151579</td>\n",
       "      <td>0.133758</td>\n",
       "      <td>0.114068</td>\n",
       "      <td>0.113931</td>\n",
       "      <td>0.097419</td>\n",
       "      <td>...</td>\n",
       "      <td>NaN</td>\n",
       "      <td>NaN</td>\n",
       "      <td>NaN</td>\n",
       "      <td>NaN</td>\n",
       "      <td>NaN</td>\n",
       "      <td>0.207607</td>\n",
       "      <td>0.137626</td>\n",
       "      <td>0.045909</td>\n",
       "      <td>0.002108</td>\n",
       "      <td>8</td>\n",
       "    </tr>\n",
       "    <tr>\n",
       "      <th>...</th>\n",
       "      <td>...</td>\n",
       "      <td>...</td>\n",
       "      <td>...</td>\n",
       "      <td>...</td>\n",
       "      <td>...</td>\n",
       "      <td>...</td>\n",
       "      <td>...</td>\n",
       "      <td>...</td>\n",
       "      <td>...</td>\n",
       "      <td>...</td>\n",
       "      <td>...</td>\n",
       "      <td>...</td>\n",
       "      <td>...</td>\n",
       "      <td>...</td>\n",
       "      <td>...</td>\n",
       "      <td>...</td>\n",
       "      <td>...</td>\n",
       "      <td>...</td>\n",
       "      <td>...</td>\n",
       "      <td>...</td>\n",
       "      <td>...</td>\n",
       "    </tr>\n",
       "    <tr>\n",
       "      <th>58971</th>\n",
       "      <td>99985</td>\n",
       "      <td>176670</td>\n",
       "      <td>NaN</td>\n",
       "      <td>0.362482</td>\n",
       "      <td>0.358608</td>\n",
       "      <td>0.342240</td>\n",
       "      <td>0.298851</td>\n",
       "      <td>0.259259</td>\n",
       "      <td>0.236842</td>\n",
       "      <td>0.158537</td>\n",
       "      <td>...</td>\n",
       "      <td>NaN</td>\n",
       "      <td>NaN</td>\n",
       "      <td>NaN</td>\n",
       "      <td>NaN</td>\n",
       "      <td>NaN</td>\n",
       "      <td>0.362482</td>\n",
       "      <td>0.195111</td>\n",
       "      <td>0.118603</td>\n",
       "      <td>0.014067</td>\n",
       "      <td>13</td>\n",
       "    </tr>\n",
       "    <tr>\n",
       "      <th>58972</th>\n",
       "      <td>99991</td>\n",
       "      <td>151118</td>\n",
       "      <td>NaN</td>\n",
       "      <td>0.358608</td>\n",
       "      <td>0.342240</td>\n",
       "      <td>0.318947</td>\n",
       "      <td>0.308036</td>\n",
       "      <td>0.195122</td>\n",
       "      <td>0.183445</td>\n",
       "      <td>0.156863</td>\n",
       "      <td>...</td>\n",
       "      <td>NaN</td>\n",
       "      <td>NaN</td>\n",
       "      <td>NaN</td>\n",
       "      <td>NaN</td>\n",
       "      <td>NaN</td>\n",
       "      <td>0.358608</td>\n",
       "      <td>0.171242</td>\n",
       "      <td>0.103035</td>\n",
       "      <td>0.010616</td>\n",
       "      <td>16</td>\n",
       "    </tr>\n",
       "    <tr>\n",
       "      <th>58973</th>\n",
       "      <td>99992</td>\n",
       "      <td>197084</td>\n",
       "      <td>NaN</td>\n",
       "      <td>0.222222</td>\n",
       "      <td>0.215190</td>\n",
       "      <td>0.183445</td>\n",
       "      <td>0.156250</td>\n",
       "      <td>0.105505</td>\n",
       "      <td>0.096017</td>\n",
       "      <td>0.087328</td>\n",
       "      <td>...</td>\n",
       "      <td>NaN</td>\n",
       "      <td>NaN</td>\n",
       "      <td>NaN</td>\n",
       "      <td>NaN</td>\n",
       "      <td>NaN</td>\n",
       "      <td>0.222222</td>\n",
       "      <td>0.109717</td>\n",
       "      <td>0.070569</td>\n",
       "      <td>0.004980</td>\n",
       "      <td>12</td>\n",
       "    </tr>\n",
       "    <tr>\n",
       "      <th>58974</th>\n",
       "      <td>99995</td>\n",
       "      <td>137810</td>\n",
       "      <td>NaN</td>\n",
       "      <td>0.151273</td>\n",
       "      <td>0.146006</td>\n",
       "      <td>0.138225</td>\n",
       "      <td>0.132517</td>\n",
       "      <td>0.125996</td>\n",
       "      <td>0.120446</td>\n",
       "      <td>0.113931</td>\n",
       "      <td>...</td>\n",
       "      <td>NaN</td>\n",
       "      <td>NaN</td>\n",
       "      <td>NaN</td>\n",
       "      <td>NaN</td>\n",
       "      <td>NaN</td>\n",
       "      <td>0.151273</td>\n",
       "      <td>0.105666</td>\n",
       "      <td>0.027463</td>\n",
       "      <td>0.000754</td>\n",
       "      <td>17</td>\n",
       "    </tr>\n",
       "    <tr>\n",
       "      <th>58975</th>\n",
       "      <td>99999</td>\n",
       "      <td>113369</td>\n",
       "      <td>NaN</td>\n",
       "      <td>0.125996</td>\n",
       "      <td>0.105505</td>\n",
       "      <td>0.036946</td>\n",
       "      <td>0.000000</td>\n",
       "      <td>0.000000</td>\n",
       "      <td>NaN</td>\n",
       "      <td>NaN</td>\n",
       "      <td>...</td>\n",
       "      <td>NaN</td>\n",
       "      <td>NaN</td>\n",
       "      <td>NaN</td>\n",
       "      <td>NaN</td>\n",
       "      <td>NaN</td>\n",
       "      <td>0.125996</td>\n",
       "      <td>0.053689</td>\n",
       "      <td>0.059073</td>\n",
       "      <td>0.003490</td>\n",
       "      <td>5</td>\n",
       "    </tr>\n",
       "  </tbody>\n",
       "</table>\n",
       "<p>58976 rows × 47 columns</p>\n",
       "</div>"
      ],
      "text/plain": [
       "       SUBJECT_ID  HADM_ID  NaN       1.0       2.0       3.0       4.0  \\\n",
       "0               2   163353  NaN       NaN  0.000000       NaN       NaN   \n",
       "1               3   145834  NaN  0.534290  0.346667  0.342240  0.183445   \n",
       "2               4   185777  NaN  0.327869  0.246617  0.222222  0.176471   \n",
       "3               5   178980  NaN       NaN  0.000000       NaN       NaN   \n",
       "4               6   107064  NaN  0.207607  0.200000  0.151579  0.133758   \n",
       "...           ...      ...  ...       ...       ...       ...       ...   \n",
       "58971       99985   176670  NaN  0.362482  0.358608  0.342240  0.298851   \n",
       "58972       99991   151118  NaN  0.358608  0.342240  0.318947  0.308036   \n",
       "58973       99992   197084  NaN  0.222222  0.215190  0.183445  0.156250   \n",
       "58974       99995   137810  NaN  0.151273  0.146006  0.138225  0.132517   \n",
       "58975       99999   113369  NaN  0.125996  0.105505  0.036946  0.000000   \n",
       "\n",
       "            5.0       6.0       7.0  ...  35.0  36.0  37.0  38.0  39.0  \\\n",
       "0           NaN       NaN       NaN  ...   NaN   NaN   NaN   NaN   NaN   \n",
       "1      0.154391  0.140284  0.132517  ...   NaN   NaN   NaN   NaN   NaN   \n",
       "2      0.147920  0.094675  0.094118  ...   NaN   NaN   NaN   NaN   NaN   \n",
       "3           NaN       NaN       NaN  ...   NaN   NaN   NaN   NaN   NaN   \n",
       "4      0.114068  0.113931  0.097419  ...   NaN   NaN   NaN   NaN   NaN   \n",
       "...         ...       ...       ...  ...   ...   ...   ...   ...   ...   \n",
       "58971  0.259259  0.236842  0.158537  ...   NaN   NaN   NaN   NaN   NaN   \n",
       "58972  0.195122  0.183445  0.156863  ...   NaN   NaN   NaN   NaN   NaN   \n",
       "58973  0.105505  0.096017  0.087328  ...   NaN   NaN   NaN   NaN   NaN   \n",
       "58974  0.125996  0.120446  0.113931  ...   NaN   NaN   NaN   NaN   NaN   \n",
       "58975  0.000000       NaN       NaN  ...   NaN   NaN   NaN   NaN   NaN   \n",
       "\n",
       "            Max      Mean    StdDev       Var  Count  \n",
       "0      0.000000  0.000000       NaN       NaN      1  \n",
       "1      0.534290  0.231113  0.144532  0.020889      9  \n",
       "2      0.327869  0.164449  0.086359  0.007458      9  \n",
       "3      0.000000  0.000000       NaN       NaN      1  \n",
       "4      0.207607  0.137626  0.045909  0.002108      8  \n",
       "...         ...       ...       ...       ...    ...  \n",
       "58971  0.362482  0.195111  0.118603  0.014067     13  \n",
       "58972  0.358608  0.171242  0.103035  0.010616     16  \n",
       "58973  0.222222  0.109717  0.070569  0.004980     12  \n",
       "58974  0.151273  0.105666  0.027463  0.000754     17  \n",
       "58975  0.125996  0.053689  0.059073  0.003490      5  \n",
       "\n",
       "[58976 rows x 47 columns]"
      ]
     },
     "execution_count": 25,
     "metadata": {},
     "output_type": "execute_result"
    }
   ],
   "source": [
    "pivoted_df"
   ]
  },
  {
   "cell_type": "markdown",
   "metadata": {},
   "source": [
    "select_cols chooses which columns to include in the final model. This is an easy way to add and remove things to try."
   ]
  },
  {
   "cell_type": "code",
   "execution_count": 26,
   "id": "1807ccc6",
   "metadata": {},
   "outputs": [],
   "source": [
    "select_cols = ['Max', 'Mean','StdDev', 1.0, 2.0, 3.0, 4.0, 5.0, 6.0, 7.0, 8.0, 9.0, 10.0,11.0,12.0,13.0,14.0,15.0,16.0,17.0,18.0,19.0,20.0,21.0,22.0,23.0]#,24.0]\n",
    "pulled_cols = ['SUBJECT_ID', 'HADM_ID'] + select_cols\n",
    "X_shape = X_shape.merge(pivoted_df[pulled_cols], on=['SUBJECT_ID', 'HADM_ID'], how='left')"
   ]
  },
  {
   "cell_type": "markdown",
   "id": "6ddf7090",
   "metadata": {},
   "source": [
    "## Age"
   ]
  },
  {
   "cell_type": "markdown",
   "id": "8ba3ae90",
   "metadata": {},
   "source": [
    "I wrote a function to convert the DOB function into Age (I subtract the DOB from the ADMITTIME. No need for the Diff column as the both the two columns should be off by the same amount. Drop anamoulous individuals with ages recorded over 150) and then I used pd.get_dummies on ADMISSION_TYPE."
   ]
  },
  {
   "cell_type": "code",
   "execution_count": 27,
   "id": "da9a5dff",
   "metadata": {},
   "outputs": [],
   "source": [
    "def find_age(df_):\n",
    "    bins = [0, 4, 14, 24, 34, 44, 54, 64, 74, 84, float('inf')]\n",
    "    labels = ['1–4', '5–14', '15–24', '25–34', '35–44', '45–54', '55–64', '65–74', '75–84', '85 and over']\n",
    "    df = df_.copy()\n",
    "    df['DOB'] = pd.to_datetime(df['DOB'])\n",
    "    df['ADMITTIME'] = pd.to_datetime(df['ADMITTIME'])\n",
    "    df['DOB'] = df['DOB'].dt.date\n",
    "    df['ADMITTIME'] = (df['ADMITTIME']).dt.date\n",
    "    df['AGE'] = (df['ADMITTIME'] - df['DOB'])\n",
    "    df['AGE'] = df['AGE'].apply(lambda x: x.days)/365.25\n",
    "    df['AGE'] = df['AGE']\n",
    "    df.drop(columns = [\"DOB\"], inplace = True)\n",
    "    df.loc[df['AGE'] > 110] = np.nan  \n",
    "    df['AGE_GROUP'] = pd.cut(df['AGE'], bins=bins, labels=labels, right=False)    \n",
    "    df.drop(columns = [\"AGE\"], inplace = True)\n",
    "    return df\n",
    "X_shape = find_age(X_shape)\n"
   ]
  },
  {
   "cell_type": "markdown",
   "id": "781103ca",
   "metadata": {},
   "source": [
    "Originally, because the hospital is in the U.S., I used CDC data from 2012 (the last year that data from this training set was collected) to bin age. I used the per 100,000 death number as the number each bin got mapped to. I ended up mean encoding it as it was substantially better. I tried CDC 2012 data for a number for different demographic identifiers. However, something I thought about later was that the death rates of the entire population is not necessarily reflective of emergency rooms."
   ]
  },
  {
   "cell_type": "code",
   "execution_count": 28,
   "id": "56b06d68",
   "metadata": {},
   "outputs": [],
   "source": [
    "death_rates = X_shape[y1== 1]['AGE_GROUP'].value_counts()/X_shape['AGE_GROUP'].value_counts()\n",
    "age_to_death_rate = death_rates.to_dict()"
   ]
  },
  {
   "cell_type": "markdown",
   "id": "a975bdd2",
   "metadata": {},
   "source": [
    "## Admission Type"
   ]
  },
  {
   "cell_type": "markdown",
   "metadata": {},
   "source": [
    "I label encoded this. I had intially dropped Urgent, as there was not that many people classified as Urgent. Then I combined Urgent with Emergency and used dummies. However, after seeing that there was clearly a hierarchy, I label encoded them as such."
   ]
  },
  {
   "cell_type": "code",
   "execution_count": 29,
   "id": "be9fdf48",
   "metadata": {},
   "outputs": [
    {
     "data": {
      "text/html": [
       "<style>#sk-container-id-1 {color: black;}#sk-container-id-1 pre{padding: 0;}#sk-container-id-1 div.sk-toggleable {background-color: white;}#sk-container-id-1 label.sk-toggleable__label {cursor: pointer;display: block;width: 100%;margin-bottom: 0;padding: 0.3em;box-sizing: border-box;text-align: center;}#sk-container-id-1 label.sk-toggleable__label-arrow:before {content: \"▸\";float: left;margin-right: 0.25em;color: #696969;}#sk-container-id-1 label.sk-toggleable__label-arrow:hover:before {color: black;}#sk-container-id-1 div.sk-estimator:hover label.sk-toggleable__label-arrow:before {color: black;}#sk-container-id-1 div.sk-toggleable__content {max-height: 0;max-width: 0;overflow: hidden;text-align: left;background-color: #f0f8ff;}#sk-container-id-1 div.sk-toggleable__content pre {margin: 0.2em;color: black;border-radius: 0.25em;background-color: #f0f8ff;}#sk-container-id-1 input.sk-toggleable__control:checked~div.sk-toggleable__content {max-height: 200px;max-width: 100%;overflow: auto;}#sk-container-id-1 input.sk-toggleable__control:checked~label.sk-toggleable__label-arrow:before {content: \"▾\";}#sk-container-id-1 div.sk-estimator input.sk-toggleable__control:checked~label.sk-toggleable__label {background-color: #d4ebff;}#sk-container-id-1 div.sk-label input.sk-toggleable__control:checked~label.sk-toggleable__label {background-color: #d4ebff;}#sk-container-id-1 input.sk-hidden--visually {border: 0;clip: rect(1px 1px 1px 1px);clip: rect(1px, 1px, 1px, 1px);height: 1px;margin: -1px;overflow: hidden;padding: 0;position: absolute;width: 1px;}#sk-container-id-1 div.sk-estimator {font-family: monospace;background-color: #f0f8ff;border: 1px dotted black;border-radius: 0.25em;box-sizing: border-box;margin-bottom: 0.5em;}#sk-container-id-1 div.sk-estimator:hover {background-color: #d4ebff;}#sk-container-id-1 div.sk-parallel-item::after {content: \"\";width: 100%;border-bottom: 1px solid gray;flex-grow: 1;}#sk-container-id-1 div.sk-label:hover label.sk-toggleable__label {background-color: #d4ebff;}#sk-container-id-1 div.sk-serial::before {content: \"\";position: absolute;border-left: 1px solid gray;box-sizing: border-box;top: 0;bottom: 0;left: 50%;z-index: 0;}#sk-container-id-1 div.sk-serial {display: flex;flex-direction: column;align-items: center;background-color: white;padding-right: 0.2em;padding-left: 0.2em;position: relative;}#sk-container-id-1 div.sk-item {position: relative;z-index: 1;}#sk-container-id-1 div.sk-parallel {display: flex;align-items: stretch;justify-content: center;background-color: white;position: relative;}#sk-container-id-1 div.sk-item::before, #sk-container-id-1 div.sk-parallel-item::before {content: \"\";position: absolute;border-left: 1px solid gray;box-sizing: border-box;top: 0;bottom: 0;left: 50%;z-index: -1;}#sk-container-id-1 div.sk-parallel-item {display: flex;flex-direction: column;z-index: 1;position: relative;background-color: white;}#sk-container-id-1 div.sk-parallel-item:first-child::after {align-self: flex-end;width: 50%;}#sk-container-id-1 div.sk-parallel-item:last-child::after {align-self: flex-start;width: 50%;}#sk-container-id-1 div.sk-parallel-item:only-child::after {width: 0;}#sk-container-id-1 div.sk-dashed-wrapped {border: 1px dashed gray;margin: 0 0.4em 0.5em 0.4em;box-sizing: border-box;padding-bottom: 0.4em;background-color: white;}#sk-container-id-1 div.sk-label label {font-family: monospace;font-weight: bold;display: inline-block;line-height: 1.2em;}#sk-container-id-1 div.sk-label-container {text-align: center;}#sk-container-id-1 div.sk-container {/* jupyter's `normalize.less` sets `[hidden] { display: none; }` but bootstrap.min.css set `[hidden] { display: none !important; }` so we also need the `!important` here to be able to override the default hidden behavior on the sphinx rendered scikit-learn.org. See: https://github.com/scikit-learn/scikit-learn/issues/21755 */display: inline-block !important;position: relative;}#sk-container-id-1 div.sk-text-repr-fallback {display: none;}</style><div id=\"sk-container-id-1\" class=\"sk-top-container\"><div class=\"sk-text-repr-fallback\"><pre>LabelEncoder()</pre><b>In a Jupyter environment, please rerun this cell to show the HTML representation or trust the notebook. <br />On GitHub, the HTML representation is unable to render, please try loading this page with nbviewer.org.</b></div><div class=\"sk-container\" hidden><div class=\"sk-item\"><div class=\"sk-estimator sk-toggleable\"><input class=\"sk-toggleable__control sk-hidden--visually\" id=\"sk-estimator-id-1\" type=\"checkbox\" checked><label for=\"sk-estimator-id-1\" class=\"sk-toggleable__label sk-toggleable__label-arrow\">LabelEncoder</label><div class=\"sk-toggleable__content\"><pre>LabelEncoder()</pre></div></div></div></div></div>"
      ],
      "text/plain": [
       "LabelEncoder()"
      ]
     },
     "execution_count": 29,
     "metadata": {},
     "output_type": "execute_result"
    }
   ],
   "source": [
    "label_mapping = {'ELECTIVE': 0, 'URGENT': 1, 'EMERGENCY': 2}\n",
    "label_encoder = LabelEncoder()\n",
    "label_encoder.fit(list(label_mapping.keys()))\n"
   ]
  },
  {
   "cell_type": "markdown",
   "id": "bdeb93e0",
   "metadata": {},
   "source": [
    "## Ethnicity"
   ]
  },
  {
   "cell_type": "markdown",
   "metadata": {},
   "source": [
    "Convert ethnicities into either White, Black, Hispanic, Asian, or Other. Similary to age, I started by using CDC data and then tried mean-encoding. However, because there are only 5 classifications of race, I ended up using dummy variables."
   ]
  },
  {
   "cell_type": "code",
   "execution_count": 30,
   "id": "e4a429a1",
   "metadata": {},
   "outputs": [],
   "source": [
    "keywords = {\n",
    "    'WHITE': ['WHITE'],\n",
    "    'BLACK': ['BLACK'],\n",
    "    'HISPANIC': ['HISPANIC'],\n",
    "    'ASIAN': ['ASIAN']\n",
    "}\n",
    "\n",
    "def classify_ethnicity(text):\n",
    "   if isinstance(text, str):\n",
    "        for category, category_keywords in keywords.items():\n",
    "            if any(keyword in text for keyword in category_keywords):\n",
    "                return category\n",
    "        return 'Other' \n",
    "\n",
    "def map_demographic(df):\n",
    "    df['ETHNICITY'] = df['ETHNICITY'].apply(classify_ethnicity)\n",
    "    df['demographic'] = df['ETHNICITY'] + ' ' + df['GENDER']\n",
    "    df['demographic'] = df['demographic'].map(map_demo)\n",
    "    return(df)"
   ]
  },
  {
   "cell_type": "markdown",
   "metadata": {},
   "source": [
    "I kept my code for mean_encoding in just in case I wanted to use it, but pretty much none of my models used it."
   ]
  },
  {
   "cell_type": "code",
   "execution_count": 31,
   "id": "565c492d",
   "metadata": {},
   "outputs": [],
   "source": [
    "X_shape['ETHNICITY'] = X_shape['ETHNICITY'].apply(classify_ethnicity)\n",
    "X_shape['demographic'] = X_shape['ETHNICITY'] + ' ' + X_shape['GENDER']\n",
    "map_demo= X_shape[y1==1]['demographic'].value_counts()/X_shape['demographic'].value_counts()\n",
    "map_demo = map_demo.to_dict()\n",
    "X_shape['demographic'] = X_shape['demographic'].map(map_demo)"
   ]
  },
  {
   "cell_type": "markdown",
   "id": "9af71d65",
   "metadata": {},
   "source": [
    "## Numbers of Visits the Hopsital"
   ]
  },
  {
   "cell_type": "markdown",
   "metadata": {},
   "source": [
    "There are many repeat visitors to the emergency room and I wanted to see if this was at all helpful for predictions."
   ]
  },
  {
   "cell_type": "code",
   "execution_count": 32,
   "id": "45df5489",
   "metadata": {},
   "outputs": [],
   "source": [
    "test = test1.copy()\n",
    "X_shape = X_shape1.copy()\n",
    "X_test = X_test1.copy()\n",
    "\n",
    "X_shape = X_shape.rename(columns={'subject_id': 'SUBJECT_ID', 'hadm_id': 'HADM_ID'})\n",
    "X_test = X_test.rename(columns={'subject_id': 'SUBJECT_ID', 'hadm_id': 'HADM_ID'})\n",
    "test = test.rename(columns={'subject_id': 'SUBJECT_ID', 'hadm_id': 'HADM_ID'})\n"
   ]
  },
  {
   "cell_type": "markdown",
   "id": "430526c7",
   "metadata": {},
   "source": [
    "Training Data"
   ]
  },
  {
   "cell_type": "code",
   "execution_count": 33,
   "id": "a593eb82",
   "metadata": {},
   "outputs": [],
   "source": [
    "def chronological(df_):\n",
    "    df = df_.copy()\n",
    "    df = df.rename(columns={'subject_id': 'SUBJECT_ID', 'hadm_id': 'HADM_ID'})\n",
    "    df['ADMIT'] =df['ADMITTIME']\n",
    "    df['ADMIT']= pd.to_datetime(df['ADMIT']) + pd.to_timedelta(df['Diff'], unit= 'D')\n",
    "    df = df.reset_index(drop=True)\n",
    "    df['Original_Index'] = df.index \n",
    "    df.sort_values(by='ADMIT', ascending=True, inplace=True)\n",
    "    return df\n",
    "\n",
    "\n",
    "def bin_visit(df_):\n",
    "    bins = [0, 1,3,7,float('inf')]\n",
    "    labels = ['first', 'repeat','many','regular']\n",
    "    df = df_.copy()\n",
    "    df['SUBJECT_COUNT'] = pd.cut(df['SUBJECT_COUNT'], bins=bins, labels=labels, right=False)    \n",
    "    return df\n",
    "\n",
    " "
   ]
  },
  {
   "cell_type": "code",
   "execution_count": 34,
   "id": "3e417fd5",
   "metadata": {},
   "outputs": [],
   "source": [
    "\n",
    "X_shape = chronological(X_shape)\n",
    "X_shape['SUBJECT_COUNT'] = X_shape.groupby('SUBJECT_ID').cumcount()\n",
    "X_shape.sort_values(by='ADMIT', ascending=True, inplace=True)\n",
    "value_counts = X_shape['SUBJECT_ID'].value_counts()\n",
    "X_shape.drop('ADMIT', axis = 1, inplace= True)\n",
    "X_shape.sort_values(by='Original_Index', ascending=True, inplace=True)\n",
    "X_shape.drop('Original_Index', axis=1, inplace=True)\n",
    "\n"
   ]
  },
  {
   "cell_type": "markdown",
   "metadata": {},
   "source": [
    "Testing Data"
   ]
  },
  {
   "cell_type": "code",
   "execution_count": 35,
   "id": "9dfae9f1",
   "metadata": {},
   "outputs": [],
   "source": [
    "\n",
    "X_test = chronological(X_test)\n",
    "X_test['SUBJECT_COUNT'] = X_test.groupby('SUBJECT_ID').cumcount()\n",
    "X_test.sort_values(by='ADMIT', ascending=True, inplace=True)\n",
    "X_test['bSUBJECT_COUNT'] = X_test['SUBJECT_ID']\n",
    "X_test['bSUBJECT_COUNT'] = X_test['bSUBJECT_COUNT'].map(value_counts).fillna(0).astype(int)\n",
    "X_test['SUBJECT_COUNT'] = X_test['SUBJECT_COUNT']+X_test['bSUBJECT_COUNT']\n",
    "X_test.drop('bSUBJECT_COUNT', axis = 1,inplace = True)\n",
    "X_test.drop('ADMIT', axis = 1, inplace= True)\n",
    "X_test.sort_values(by='Original_Index', ascending=True, inplace=True)\n",
    "X_test.drop('Original_Index', axis=1, inplace=True)\n"
   ]
  },
  {
   "cell_type": "code",
   "execution_count": 36,
   "id": "a8adcb7e",
   "metadata": {},
   "outputs": [],
   "source": [
    "\n",
    "test = chronological(test)\n",
    "test['SUBJECT_COUNT'] = test.groupby('SUBJECT_ID').cumcount()\n",
    "test.sort_values(by='ADMIT', ascending=True, inplace=True)\n",
    "test['bSUBJECT_COUNT'] = test['SUBJECT_ID']\n",
    "test['bSUBJECT_COUNT'] = test['bSUBJECT_COUNT'].map(value_counts).fillna(0).astype(int)\n",
    "test['SUBJECT_COUNT'] = test['SUBJECT_COUNT']+test['bSUBJECT_COUNT']\n",
    "test.drop('bSUBJECT_COUNT', axis = 1,inplace = True)\n",
    "test.drop('ADMIT', axis = 1, inplace= True)\n",
    "test.sort_values(by='Original_Index', ascending=True, inplace=True)\n",
    "test.drop('Original_Index', axis=1, inplace=True)\n",
    "\n"
   ]
  },
  {
   "cell_type": "markdown",
   "metadata": {},
   "source": [
    "As seen below, there are a couple issues. Firstly, as the number of visits increase, understandably the number of people drop off. At 15, there is 1 person who is returning to the hospital until they pass away on their 25th visit. This means there is a recorded 0% for visits 15-24 because of one person.\n",
    "\n",
    "The other issue is that this data is clearly non-linear. Therefore, I deiceed the best way to deal with this is to bin the visits, althought I struggled to find the significant separators for the bins."
   ]
  },
  {
   "cell_type": "code",
   "execution_count": 37,
   "id": "7af2d564",
   "metadata": {},
   "outputs": [
    {
     "data": {
      "image/png": "[encoded data removed]",
      "text/plain": [
       "<Figure size 1000x600 with 1 Axes>"
      ]
     },
     "metadata": {},
     "output_type": "display_data"
    }
   ],
   "source": [
    "df = pd.concat([X_shape, y], axis=1)\n",
    "\n",
    "subject_count_death_percentage = df.groupby('SUBJECT_COUNT')['HOSPITAL_EXPIRE_FLAG'].mean() * 100\n",
    "\n",
    "plt.figure(figsize=(10, 6))\n",
    "\n",
    "subject_count_death_percentage.plot(kind='bar')\n",
    "\n",
    "plt.title('Relationship between SUBJECT_COUNT and Percentage of People Who Died')\n",
    "plt.xlabel('SUBJECT_COUNT')\n",
    "plt.ylabel('Percentage of Deaths')\n",
    "plt.xticks(rotation=45)\n",
    "\n",
    "plt.show()\n"
   ]
  },
  {
   "cell_type": "markdown",
   "metadata": {},
   "source": [
    "Binning the vistis"
   ]
  },
  {
   "cell_type": "code",
   "execution_count": 38,
   "id": "0915bd06",
   "metadata": {},
   "outputs": [],
   "source": [
    "X_shape = bin_visit(X_shape)\n",
    "X_test = bin_visit(X_test)\n",
    "test = bin_visit(test)"
   ]
  },
  {
   "cell_type": "markdown",
   "metadata": {},
   "source": [
    "Visualizing the data after binning."
   ]
  },
  {
   "cell_type": "code",
   "execution_count": 39,
   "id": "0d701848",
   "metadata": {},
   "outputs": [
    {
     "data": {
      "image/png": "[encoded data removed]",
      "text/plain": [
       "<Figure size 1000x600 with 1 Axes>"
      ]
     },
     "metadata": {},
     "output_type": "display_data"
    }
   ],
   "source": [
    "df = pd.concat([X_shape, y], axis=1)\n",
    "\n",
    "subject_count_death_percentage = df.groupby('SUBJECT_COUNT')['HOSPITAL_EXPIRE_FLAG'].mean() * 100\n",
    "\n",
    "plt.figure(figsize=(10, 6))\n",
    "\n",
    "subject_count_death_percentage.plot(kind='bar')\n",
    "\n",
    "plt.title('Relationship between SUBJECT_COUNT and Percentage of People Who Died')\n",
    "plt.xlabel('SUBJECT_COUNT')\n",
    "plt.ylabel('Percentage of Deaths')\n",
    "plt.xticks(rotation=45)\n",
    "\n",
    "plt.show()"
   ]
  },
  {
   "cell_type": "markdown",
   "metadata": {},
   "source": [
    "Creating a dictionary in case I want to mean encode."
   ]
  },
  {
   "cell_type": "code",
   "execution_count": 40,
   "metadata": {},
   "outputs": [],
   "source": [
    "subject_count_death_percentage = subject_count_death_percentage.to_dict()"
   ]
  },
  {
   "cell_type": "markdown",
   "metadata": {},
   "source": [
    "I do this throughout the notebook so I have two copies of datasets to work one in case I mess something up. That way I can reset easily."
   ]
  },
  {
   "cell_type": "code",
   "execution_count": 41,
   "id": "8d8a062a",
   "metadata": {},
   "outputs": [],
   "source": [
    "X_shape1 = X_shape.copy()\n",
    "X_test1 = X_test.copy()\n",
    "test1 = test.copy()"
   ]
  },
  {
   "cell_type": "markdown",
   "id": "6012813e",
   "metadata": {},
   "source": [
    "## Insurance"
   ]
  },
  {
   "cell_type": "markdown",
   "metadata": {},
   "source": [
    "I'm not doing anything with insurance here, I just wanted to see some information about Insurance. I didn't end up using Insurance in any of my models."
   ]
  },
  {
   "cell_type": "code",
   "execution_count": 42,
   "id": "25ad3b13",
   "metadata": {},
   "outputs": [
    {
     "data": {
      "text/plain": [
       "Medicare      0.134494\n",
       "Private       0.085989\n",
       "Medicaid      0.079358\n",
       "Government    0.058920\n",
       "Self Pay      0.144330\n",
       "Name: INSURANCE, dtype: float64"
      ]
     },
     "execution_count": 42,
     "metadata": {},
     "output_type": "execute_result"
    }
   ],
   "source": [
    "df[df['HOSPITAL_EXPIRE_FLAG'] == 1]['INSURANCE'].value_counts()/df['INSURANCE'].value_counts()"
   ]
  },
  {
   "cell_type": "code",
   "execution_count": 43,
   "id": "91b270d9",
   "metadata": {},
   "outputs": [
    {
     "data": {
      "text/plain": [
       "INSURANCE\n",
       "Government     5.891980\n",
       "Medicaid       7.935758\n",
       "Medicare      13.449394\n",
       "Private        8.598879\n",
       "Self Pay      14.432990\n",
       "Name: HOSPITAL_EXPIRE_FLAG, dtype: float64"
      ]
     },
     "execution_count": 43,
     "metadata": {},
     "output_type": "execute_result"
    }
   ],
   "source": [
    "insurance = df.groupby('INSURANCE')['HOSPITAL_EXPIRE_FLAG'].mean() * 100\n",
    "insurance"
   ]
  },
  {
   "cell_type": "markdown",
   "id": "b28fdfca",
   "metadata": {},
   "source": [
    "## Setting up the Data"
   ]
  },
  {
   "cell_type": "markdown",
   "metadata": {},
   "source": [
    "Setting up the data:"
   ]
  },
  {
   "cell_type": "code",
   "execution_count": 44,
   "id": "8de15527",
   "metadata": {},
   "outputs": [],
   "source": [
    "test = test1.copy()\n",
    "X_shape = X_shape1.copy()\n",
    "X_test = X_test1.copy()\n",
    " \n",
    "X_shape = X_shape.rename(columns={'subject_id': 'SUBJECT_ID', 'hadm_id': 'HADM_ID'})\n",
    "X_test = X_test.rename(columns={'subject_id': 'SUBJECT_ID', 'hadm_id': 'HADM_ID'})\n",
    "test = test.rename(columns={'subject_id': 'SUBJECT_ID', 'hadm_id': 'HADM_ID'})"
   ]
  },
  {
   "cell_type": "markdown",
   "id": "f87699f3",
   "metadata": {},
   "source": [
    "Here, I am deciding which features to keep and how to encode each feature (i.e. target encoding vs dummies.) Generally for SVM, I was okay using more features as SVM handles noise better. However, for kNN, I had to be much more selective."
   ]
  },
  {
   "cell_type": "code",
   "execution_count": 45,
   "id": "491bf498",
   "metadata": {},
   "outputs": [],
   "source": [
    "def data_prep(df):\n",
    "    df = df.merge(pivoted_df[pulled_cols], on=['SUBJECT_ID', 'HADM_ID'], how='left')\n",
    "    df['DIAGNOSIS'] = df['DIAGNOSIS'].map(merged_diag)\n",
    "    df = find_age(df)\n",
    "    #df = disease_dum(df, words)\n",
    "    df['AGE_GROUP'] = df['AGE_GROUP'].map(age_to_death_rate)\n",
    "    #df['AGE_GROUP'] = np.log(df['AGE_GROUP'])\n",
    "    df['ADMISSION_TYPE'] = df['ADMISSION_TYPE'].apply(lambda x: label_mapping.get(x, x))\n",
    "    df['GENDER'] = df['GENDER'].map({'M': 1, 'F': 0})\n",
    "    #df = map_demographic(df)\n",
    "    df['ETHNICITY'] = df['ETHNICITY'].apply(classify_ethnicity)\n",
    "    #df = pd.get_dummies(df, prefix=['INSURANCE'], columns=['INSURANCE'], drop_first = False)\n",
    "    df = pd.get_dummies(df, prefix=['ETHNICITY'], columns=['ETHNICITY'], drop_first = False)\n",
    "    #df = pd.get_dummies(df, prefix=['FIRST_CAREUNIT'], columns=['FIRST_CAREUNIT'], drop_first = False)\n",
    "    #df = pd.get_dummies(df, prefix=['SUBJECT_COUNT'], columns=['SUBJECT_COUNT'], drop_first = True)\n",
    "    df['SUBJECT_COUNT'] = df['SUBJECT_COUNT'].map(subject_count_death_percentage)\n",
    "    df = df.drop(['SUBJECT_ID','GENDER','HADM_ID','Diff','FIRST_CAREUNIT','INSURANCE'], axis=1)\n",
    "    df.drop('ADMITTIME', axis = 1, inplace = True)\n",
    "    return(df)\n"
   ]
  },
  {
   "cell_type": "markdown",
   "metadata": {},
   "source": [
    "Preparing datasets. If there no train, test split is used, X_test can be ignored. However, I wanted my notebook to run seemlessly with \"Run All\" regardless of if there is a train test split used."
   ]
  },
  {
   "cell_type": "code",
   "execution_count": 46,
   "id": "b31ec9fe",
   "metadata": {},
   "outputs": [],
   "source": [
    "test = data_prep(test)\n",
    "X_shape = data_prep(X_shape)\n",
    "X_test = data_prep(X_test)"
   ]
  },
  {
   "cell_type": "markdown",
   "id": "34cbea3d",
   "metadata": {},
   "source": [
    "## Preprocessing"
   ]
  },
  {
   "cell_type": "markdown",
   "id": "3b52e916",
   "metadata": {},
   "source": [
    "Imputed the mean for missing data. I tried median and mode but mean was the best."
   ]
  },
  {
   "cell_type": "code",
   "execution_count": 47,
   "id": "b25bfbec",
   "metadata": {},
   "outputs": [],
   "source": [
    "cols = X_shape.columns.astype(str)\n",
    "X_shape.columns = cols\n",
    "X_test.columns = cols\n",
    "test.columns = cols"
   ]
  },
  {
   "cell_type": "code",
   "execution_count": 48,
   "id": "ad97b38e",
   "metadata": {},
   "outputs": [],
   "source": [
    "imp_mean = SimpleImputer(missing_values = np.nan, strategy='mean')\n",
    "imp_mean.fit(X_shape)\n",
    "\n",
    "test = pd.DataFrame(imp_mean.transform(test))\n",
    "X_test = pd.DataFrame(imp_mean.transform(X_test))\n",
    "X_shape = pd.DataFrame(imp_mean.transform(X_shape))\n"
   ]
  },
  {
   "cell_type": "markdown",
   "metadata": {},
   "source": [
    "To deal with imbalanced data in kNN< I tried SMOTE oversampling. However, it ended up overfitting my data substantially."
   ]
  },
  {
   "cell_type": "code",
   "execution_count": 49,
   "id": "087ca9cb",
   "metadata": {},
   "outputs": [],
   "source": [
    "from imblearn.over_sampling import SMOTE\n",
    "#smote = SMOTE(sampling_strategy='auto', random_state=42)\n",
    "#X_shape, y = smote.fit_resample(X_shape, y)\n",
    "#oversampler = RandomOverSampler(sampling_strategy='auto')\n",
    "#X_resampled, y_resampled = oversampler.fit_resample(X_train, y_train)"
   ]
  },
  {
   "cell_type": "markdown",
   "id": "3b9d93b6",
   "metadata": {},
   "source": [
    "Scaling the Dataset."
   ]
  },
  {
   "cell_type": "code",
   "execution_count": 50,
   "id": "234a80e0",
   "metadata": {},
   "outputs": [],
   "source": [
    "scaler = preprocessing.StandardScaler()\n",
    "scaler.fit(X_shape,y)\n",
    "\n",
    "X_shape = scaler.transform(X_shape)\n",
    "X_test = scaler.transform(X_test)\n",
    "test = scaler.transform(test)\n",
    "\n",
    "X_shape = pd.DataFrame(X_shape, columns=cols)\n",
    "X_test = pd.DataFrame(X_test, columns=cols)\n",
    "test = pd.DataFrame(test, columns = cols)"
   ]
  },
  {
   "cell_type": "markdown",
   "id": "1bb250ef",
   "metadata": {},
   "source": [
    "## Correlation Matrix"
   ]
  },
  {
   "cell_type": "markdown",
   "metadata": {},
   "source": [
    "I want to see how the features I selected correlate with death as well as each other so I made a correlation matrix/heatmap."
   ]
  },
  {
   "cell_type": "code",
   "execution_count": 51,
   "id": "224ba588",
   "metadata": {},
   "outputs": [],
   "source": [
    "joined = pd.concat([y,X_shape],axis=1)\n",
    "\n",
    "def corr_matrix(df):\n",
    "    corr_mat = np.zeros((df.shape[1], df.shape[1]))\n",
    "    for i in range(df.shape[1]):\n",
    "        for j in range(df.shape[1]):\n",
    "            corr_mat[i, j] = df.iloc[:, i].corr(df.iloc[:, j])\n",
    "    corr_mat = pd.DataFrame(corr_mat, columns=df.columns, index=df.columns)\n",
    "    return corr_mat\n",
    "                                                   \n",
    "corr_mat = corr_matrix(joined)\n",
    "\n",
    "corr_with_HEF = corr_mat['HOSPITAL_EXPIRE_FLAG']\n",
    "corr_with_HEF = corr_with_HEF.iloc[1:len(X_shape)]\n"
   ]
  },
  {
   "cell_type": "code",
   "execution_count": 52,
   "id": "d3328590",
   "metadata": {},
   "outputs": [
    {
     "data": {
      "image/png": "[encoded data removed]",
      "text/plain": [
       "<Figure size 1000x800 with 2 Axes>"
      ]
     },
     "metadata": {},
     "output_type": "display_data"
    }
   ],
   "source": [
    "plt.figure(figsize=(10, 8))\n",
    "sns.heatmap(corr_mat, annot=False, cmap='coolwarm', fmt=\".2f\")\n",
    "plt.title('Correlation Heatmap')\n",
    "plt.show()"
   ]
  },
  {
   "cell_type": "markdown",
   "metadata": {},
   "source": [
    "Relationship specifcially between each feature and Hospital Expire Flag"
   ]
  },
  {
   "cell_type": "code",
   "execution_count": 53,
   "id": "9f81e4f0",
   "metadata": {},
   "outputs": [
    {
     "data": {
      "image/png": "[encoded data removed]",
      "text/plain": [
       "<Figure size 1000x800 with 2 Axes>"
      ]
     },
     "metadata": {},
     "output_type": "display_data"
    }
   ],
   "source": [
    "plot_corr = pd.DataFrame(corr_with_HEF)\n",
    "plt.figure(figsize=(10, 8))\n",
    "sns.heatmap(plot_corr, annot=True, cmap='coolwarm', fmt=\".2f\")\n",
    "plt.title('Correlation Heatmap')\n",
    "plt.show()"
   ]
  },
  {
   "cell_type": "markdown",
   "metadata": {},
   "source": [
    "Something that I tried repeatedly was to artifically weight the dimensions for kNN as clealry some dimensions are much better predictors than others. I tried things like doubling or tripling important colunns. Below, I have to functions to scale the datasets by the correlation or variance. Whatever I did to try to weight the features always ended up drastically overfitting my training set."
   ]
  },
  {
   "cell_type": "code",
   "execution_count": 54,
   "id": "bdd7cf79",
   "metadata": {},
   "outputs": [],
   "source": [
    "def scale_by_corr(df, corr):\n",
    "    for i in corr.index.tolist():\n",
    "        df[i] = df[i] * abs(corr.loc[i])\n",
    "    return(df)\n",
    "\n",
    "def scale_by_var(df, corr):\n",
    "    for i in corr.index.tolist():\n",
    "        df[i] = df[i] * corr.loc[i] ** 2\n",
    "    return(df)\n",
    "\n",
    "#X_shape = scale_by_corr(X_shape, corr_with_HEF)\n",
    "#X_test = scale_by_corr(X_test, corr_with_HEF)\n",
    "#test = scale_by_corr(test, corr_with_HEF)"
   ]
  },
  {
   "cell_type": "markdown",
   "id": "338a0806",
   "metadata": {},
   "source": [
    "## Trying LASSO for feature selection"
   ]
  },
  {
   "cell_type": "markdown",
   "metadata": {},
   "source": [
    "Just for fun, I tried running LASSO for feature selection. It didn't remove any features."
   ]
  },
  {
   "cell_type": "code",
   "execution_count": 55,
   "id": "1fd6fb63",
   "metadata": {},
   "outputs": [
    {
     "data": {
      "text/html": [
       "<style>#sk-container-id-2 {color: black;}#sk-container-id-2 pre{padding: 0;}#sk-container-id-2 div.sk-toggleable {background-color: white;}#sk-container-id-2 label.sk-toggleable__label {cursor: pointer;display: block;width: 100%;margin-bottom: 0;padding: 0.3em;box-sizing: border-box;text-align: center;}#sk-container-id-2 label.sk-toggleable__label-arrow:before {content: \"▸\";float: left;margin-right: 0.25em;color: #696969;}#sk-container-id-2 label.sk-toggleable__label-arrow:hover:before {color: black;}#sk-container-id-2 div.sk-estimator:hover label.sk-toggleable__label-arrow:before {color: black;}#sk-container-id-2 div.sk-toggleable__content {max-height: 0;max-width: 0;overflow: hidden;text-align: left;background-color: #f0f8ff;}#sk-container-id-2 div.sk-toggleable__content pre {margin: 0.2em;color: black;border-radius: 0.25em;background-color: #f0f8ff;}#sk-container-id-2 input.sk-toggleable__control:checked~div.sk-toggleable__content {max-height: 200px;max-width: 100%;overflow: auto;}#sk-container-id-2 input.sk-toggleable__control:checked~label.sk-toggleable__label-arrow:before {content: \"▾\";}#sk-container-id-2 div.sk-estimator input.sk-toggleable__control:checked~label.sk-toggleable__label {background-color: #d4ebff;}#sk-container-id-2 div.sk-label input.sk-toggleable__control:checked~label.sk-toggleable__label {background-color: #d4ebff;}#sk-container-id-2 input.sk-hidden--visually {border: 0;clip: rect(1px 1px 1px 1px);clip: rect(1px, 1px, 1px, 1px);height: 1px;margin: -1px;overflow: hidden;padding: 0;position: absolute;width: 1px;}#sk-container-id-2 div.sk-estimator {font-family: monospace;background-color: #f0f8ff;border: 1px dotted black;border-radius: 0.25em;box-sizing: border-box;margin-bottom: 0.5em;}#sk-container-id-2 div.sk-estimator:hover {background-color: #d4ebff;}#sk-container-id-2 div.sk-parallel-item::after {content: \"\";width: 100%;border-bottom: 1px solid gray;flex-grow: 1;}#sk-container-id-2 div.sk-label:hover label.sk-toggleable__label {background-color: #d4ebff;}#sk-container-id-2 div.sk-serial::before {content: \"\";position: absolute;border-left: 1px solid gray;box-sizing: border-box;top: 0;bottom: 0;left: 50%;z-index: 0;}#sk-container-id-2 div.sk-serial {display: flex;flex-direction: column;align-items: center;background-color: white;padding-right: 0.2em;padding-left: 0.2em;position: relative;}#sk-container-id-2 div.sk-item {position: relative;z-index: 1;}#sk-container-id-2 div.sk-parallel {display: flex;align-items: stretch;justify-content: center;background-color: white;position: relative;}#sk-container-id-2 div.sk-item::before, #sk-container-id-2 div.sk-parallel-item::before {content: \"\";position: absolute;border-left: 1px solid gray;box-sizing: border-box;top: 0;bottom: 0;left: 50%;z-index: -1;}#sk-container-id-2 div.sk-parallel-item {display: flex;flex-direction: column;z-index: 1;position: relative;background-color: white;}#sk-container-id-2 div.sk-parallel-item:first-child::after {align-self: flex-end;width: 50%;}#sk-container-id-2 div.sk-parallel-item:last-child::after {align-self: flex-start;width: 50%;}#sk-container-id-2 div.sk-parallel-item:only-child::after {width: 0;}#sk-container-id-2 div.sk-dashed-wrapped {border: 1px dashed gray;margin: 0 0.4em 0.5em 0.4em;box-sizing: border-box;padding-bottom: 0.4em;background-color: white;}#sk-container-id-2 div.sk-label label {font-family: monospace;font-weight: bold;display: inline-block;line-height: 1.2em;}#sk-container-id-2 div.sk-label-container {text-align: center;}#sk-container-id-2 div.sk-container {/* jupyter's `normalize.less` sets `[hidden] { display: none; }` but bootstrap.min.css set `[hidden] { display: none !important; }` so we also need the `!important` here to be able to override the default hidden behavior on the sphinx rendered scikit-learn.org. See: https://github.com/scikit-learn/scikit-learn/issues/21755 */display: inline-block !important;position: relative;}#sk-container-id-2 div.sk-text-repr-fallback {display: none;}</style><div id=\"sk-container-id-2\" class=\"sk-top-container\"><div class=\"sk-text-repr-fallback\"><pre>GridSearchCV(cv=10,\n",
       "             estimator=LogisticRegression(penalty=&#x27;l1&#x27;, solver=&#x27;liblinear&#x27;),\n",
       "             param_grid={&#x27;C&#x27;: [2, 1, 0.5, 0.05, 0.005]}, scoring=&#x27;roc_auc&#x27;)</pre><b>In a Jupyter environment, please rerun this cell to show the HTML representation or trust the notebook. <br />On GitHub, the HTML representation is unable to render, please try loading this page with nbviewer.org.</b></div><div class=\"sk-container\" hidden><div class=\"sk-item sk-dashed-wrapped\"><div class=\"sk-label-container\"><div class=\"sk-label sk-toggleable\"><input class=\"sk-toggleable__control sk-hidden--visually\" id=\"sk-estimator-id-2\" type=\"checkbox\" ><label for=\"sk-estimator-id-2\" class=\"sk-toggleable__label sk-toggleable__label-arrow\">GridSearchCV</label><div class=\"sk-toggleable__content\"><pre>GridSearchCV(cv=10,\n",
       "             estimator=LogisticRegression(penalty=&#x27;l1&#x27;, solver=&#x27;liblinear&#x27;),\n",
       "             param_grid={&#x27;C&#x27;: [2, 1, 0.5, 0.05, 0.005]}, scoring=&#x27;roc_auc&#x27;)</pre></div></div></div><div class=\"sk-parallel\"><div class=\"sk-parallel-item\"><div class=\"sk-item\"><div class=\"sk-label-container\"><div class=\"sk-label sk-toggleable\"><input class=\"sk-toggleable__control sk-hidden--visually\" id=\"sk-estimator-id-3\" type=\"checkbox\" ><label for=\"sk-estimator-id-3\" class=\"sk-toggleable__label sk-toggleable__label-arrow\">estimator: LogisticRegression</label><div class=\"sk-toggleable__content\"><pre>LogisticRegression(penalty=&#x27;l1&#x27;, solver=&#x27;liblinear&#x27;)</pre></div></div></div><div class=\"sk-serial\"><div class=\"sk-item\"><div class=\"sk-estimator sk-toggleable\"><input class=\"sk-toggleable__control sk-hidden--visually\" id=\"sk-estimator-id-4\" type=\"checkbox\" ><label for=\"sk-estimator-id-4\" class=\"sk-toggleable__label sk-toggleable__label-arrow\">LogisticRegression</label><div class=\"sk-toggleable__content\"><pre>LogisticRegression(penalty=&#x27;l1&#x27;, solver=&#x27;liblinear&#x27;)</pre></div></div></div></div></div></div></div></div></div></div>"
      ],
      "text/plain": [
       "GridSearchCV(cv=10,\n",
       "             estimator=LogisticRegression(penalty='l1', solver='liblinear'),\n",
       "             param_grid={'C': [2, 1, 0.5, 0.05, 0.005]}, scoring='roc_auc')"
      ]
     },
     "execution_count": 55,
     "metadata": {},
     "output_type": "execute_result"
    }
   ],
   "source": [
    "from sklearn.linear_model import LogisticRegression\n",
    "param_grid = {'C': [2,1,0.5,0.05,0.005]}\n",
    "logistic_model = LogisticRegression(penalty='l1', solver='liblinear') \n",
    "grid_search = GridSearchCV(logistic_model, param_grid, cv=10, scoring='roc_auc')\n",
    "grid_search.fit(X_shape, y)\n"
   ]
  },
  {
   "cell_type": "code",
   "execution_count": 56,
   "id": "702360fe",
   "metadata": {},
   "outputs": [
    {
     "data": {
      "text/html": [
       "<style>#sk-container-id-3 {color: black;}#sk-container-id-3 pre{padding: 0;}#sk-container-id-3 div.sk-toggleable {background-color: white;}#sk-container-id-3 label.sk-toggleable__label {cursor: pointer;display: block;width: 100%;margin-bottom: 0;padding: 0.3em;box-sizing: border-box;text-align: center;}#sk-container-id-3 label.sk-toggleable__label-arrow:before {content: \"▸\";float: left;margin-right: 0.25em;color: #696969;}#sk-container-id-3 label.sk-toggleable__label-arrow:hover:before {color: black;}#sk-container-id-3 div.sk-estimator:hover label.sk-toggleable__label-arrow:before {color: black;}#sk-container-id-3 div.sk-toggleable__content {max-height: 0;max-width: 0;overflow: hidden;text-align: left;background-color: #f0f8ff;}#sk-container-id-3 div.sk-toggleable__content pre {margin: 0.2em;color: black;border-radius: 0.25em;background-color: #f0f8ff;}#sk-container-id-3 input.sk-toggleable__control:checked~div.sk-toggleable__content {max-height: 200px;max-width: 100%;overflow: auto;}#sk-container-id-3 input.sk-toggleable__control:checked~label.sk-toggleable__label-arrow:before {content: \"▾\";}#sk-container-id-3 div.sk-estimator input.sk-toggleable__control:checked~label.sk-toggleable__label {background-color: #d4ebff;}#sk-container-id-3 div.sk-label input.sk-toggleable__control:checked~label.sk-toggleable__label {background-color: #d4ebff;}#sk-container-id-3 input.sk-hidden--visually {border: 0;clip: rect(1px 1px 1px 1px);clip: rect(1px, 1px, 1px, 1px);height: 1px;margin: -1px;overflow: hidden;padding: 0;position: absolute;width: 1px;}#sk-container-id-3 div.sk-estimator {font-family: monospace;background-color: #f0f8ff;border: 1px dotted black;border-radius: 0.25em;box-sizing: border-box;margin-bottom: 0.5em;}#sk-container-id-3 div.sk-estimator:hover {background-color: #d4ebff;}#sk-container-id-3 div.sk-parallel-item::after {content: \"\";width: 100%;border-bottom: 1px solid gray;flex-grow: 1;}#sk-container-id-3 div.sk-label:hover label.sk-toggleable__label {background-color: #d4ebff;}#sk-container-id-3 div.sk-serial::before {content: \"\";position: absolute;border-left: 1px solid gray;box-sizing: border-box;top: 0;bottom: 0;left: 50%;z-index: 0;}#sk-container-id-3 div.sk-serial {display: flex;flex-direction: column;align-items: center;background-color: white;padding-right: 0.2em;padding-left: 0.2em;position: relative;}#sk-container-id-3 div.sk-item {position: relative;z-index: 1;}#sk-container-id-3 div.sk-parallel {display: flex;align-items: stretch;justify-content: center;background-color: white;position: relative;}#sk-container-id-3 div.sk-item::before, #sk-container-id-3 div.sk-parallel-item::before {content: \"\";position: absolute;border-left: 1px solid gray;box-sizing: border-box;top: 0;bottom: 0;left: 50%;z-index: -1;}#sk-container-id-3 div.sk-parallel-item {display: flex;flex-direction: column;z-index: 1;position: relative;background-color: white;}#sk-container-id-3 div.sk-parallel-item:first-child::after {align-self: flex-end;width: 50%;}#sk-container-id-3 div.sk-parallel-item:last-child::after {align-self: flex-start;width: 50%;}#sk-container-id-3 div.sk-parallel-item:only-child::after {width: 0;}#sk-container-id-3 div.sk-dashed-wrapped {border: 1px dashed gray;margin: 0 0.4em 0.5em 0.4em;box-sizing: border-box;padding-bottom: 0.4em;background-color: white;}#sk-container-id-3 div.sk-label label {font-family: monospace;font-weight: bold;display: inline-block;line-height: 1.2em;}#sk-container-id-3 div.sk-label-container {text-align: center;}#sk-container-id-3 div.sk-container {/* jupyter's `normalize.less` sets `[hidden] { display: none; }` but bootstrap.min.css set `[hidden] { display: none !important; }` so we also need the `!important` here to be able to override the default hidden behavior on the sphinx rendered scikit-learn.org. See: https://github.com/scikit-learn/scikit-learn/issues/21755 */display: inline-block !important;position: relative;}#sk-container-id-3 div.sk-text-repr-fallback {display: none;}</style><div id=\"sk-container-id-3\" class=\"sk-top-container\"><div class=\"sk-text-repr-fallback\"><pre>LogisticRegression(C=0.5, penalty=&#x27;l1&#x27;, solver=&#x27;liblinear&#x27;)</pre><b>In a Jupyter environment, please rerun this cell to show the HTML representation or trust the notebook. <br />On GitHub, the HTML representation is unable to render, please try loading this page with nbviewer.org.</b></div><div class=\"sk-container\" hidden><div class=\"sk-item\"><div class=\"sk-estimator sk-toggleable\"><input class=\"sk-toggleable__control sk-hidden--visually\" id=\"sk-estimator-id-5\" type=\"checkbox\" checked><label for=\"sk-estimator-id-5\" class=\"sk-toggleable__label sk-toggleable__label-arrow\">LogisticRegression</label><div class=\"sk-toggleable__content\"><pre>LogisticRegression(C=0.5, penalty=&#x27;l1&#x27;, solver=&#x27;liblinear&#x27;)</pre></div></div></div></div></div>"
      ],
      "text/plain": [
       "LogisticRegression(C=0.5, penalty='l1', solver='liblinear')"
      ]
     },
     "execution_count": 56,
     "metadata": {},
     "output_type": "execute_result"
    }
   ],
   "source": [
    "lasso = grid_search.best_estimator_\n",
    "lasso"
   ]
  },
  {
   "cell_type": "code",
   "execution_count": 57,
   "metadata": {},
   "outputs": [
    {
     "name": "stdout",
     "output_type": "stream",
     "text": [
      "Dropped features: []\n"
     ]
    },
    {
     "name": "stderr",
     "output_type": "stream",
     "text": [
      "/var/folders/7g/swv044q57cq378zvy5rc1fj80000gn/T/ipykernel_54518/243866380.py:2: FutureWarning: Support for multi-dimensional indexing (e.g. `obj[:, None]`) is deprecated and will be removed in a future version.  Convert to a numpy array before indexing instead.\n",
      "  dropped_features = X_shape.columns[coefficients == 0]\n"
     ]
    }
   ],
   "source": [
    "coefficients = lasso.coef_.tolist()\n",
    "dropped_features = X_shape.columns[coefficients == 0]\n",
    "print(\"Dropped features:\", dropped_features)"
   ]
  },
  {
   "cell_type": "markdown",
   "id": "2a3c668d",
   "metadata": {},
   "source": [
    "## Applying kNN or SVM"
   ]
  },
  {
   "cell_type": "markdown",
   "metadata": {},
   "source": [
    "### For kNN\n",
    "Trying different number of neighbors, how distances are weighted, and checking Manhattan distance vs. Euclidean distance. I used 20 fold cross validation. After many GridSearches, I found that weighting by distance and measuring by Manhattan Distance always produced the top results."
   ]
  },
  {
   "cell_type": "code",
   "execution_count": 58,
   "id": "04cd5f95",
   "metadata": {},
   "outputs": [
    {
     "name": "stdout",
     "output_type": "stream",
     "text": [
      "best parameters: {'n_neighbors': 50, 'p': 1, 'weights': 'distance'}\n",
      "best score:      0.95116 (+/-0.01029)\n"
     ]
    },
    {
     "data": {
      "text/html": [
       "<div>\n",
       "<style scoped>\n",
       "    .dataframe tbody tr th:only-of-type {\n",
       "        vertical-align: middle;\n",
       "    }\n",
       "\n",
       "    .dataframe tbody tr th {\n",
       "        vertical-align: top;\n",
       "    }\n",
       "\n",
       "    .dataframe thead th {\n",
       "        text-align: right;\n",
       "    }\n",
       "</style>\n",
       "<table border=\"1\" class=\"dataframe\">\n",
       "  <thead>\n",
       "    <tr style=\"text-align: right;\">\n",
       "      <th></th>\n",
       "      <th>param_n_neighbors</th>\n",
       "      <th>param_p</th>\n",
       "      <th>param_weights</th>\n",
       "      <th>params</th>\n",
       "      <th>split0_test_score</th>\n",
       "      <th>split1_test_score</th>\n",
       "      <th>split2_test_score</th>\n",
       "      <th>split3_test_score</th>\n",
       "      <th>split4_test_score</th>\n",
       "      <th>split5_test_score</th>\n",
       "      <th>...</th>\n",
       "      <th>split13_test_score</th>\n",
       "      <th>split14_test_score</th>\n",
       "      <th>split15_test_score</th>\n",
       "      <th>split16_test_score</th>\n",
       "      <th>split17_test_score</th>\n",
       "      <th>split18_test_score</th>\n",
       "      <th>split19_test_score</th>\n",
       "      <th>mean_test_score</th>\n",
       "      <th>std_test_score</th>\n",
       "      <th>rank_test_score</th>\n",
       "    </tr>\n",
       "  </thead>\n",
       "  <tbody>\n",
       "    <tr>\n",
       "      <th>1</th>\n",
       "      <td>50</td>\n",
       "      <td>1</td>\n",
       "      <td>distance</td>\n",
       "      <td>{'n_neighbors': 50, 'p': 1, 'weights': 'distan...</td>\n",
       "      <td>0.940815</td>\n",
       "      <td>0.944257</td>\n",
       "      <td>0.953504</td>\n",
       "      <td>0.957732</td>\n",
       "      <td>0.953472</td>\n",
       "      <td>0.955956</td>\n",
       "      <td>...</td>\n",
       "      <td>0.961008</td>\n",
       "      <td>0.939535</td>\n",
       "      <td>0.957251</td>\n",
       "      <td>0.941586</td>\n",
       "      <td>0.920583</td>\n",
       "      <td>0.949285</td>\n",
       "      <td>0.967467</td>\n",
       "      <td>0.951163</td>\n",
       "      <td>0.010286</td>\n",
       "      <td>1</td>\n",
       "    </tr>\n",
       "    <tr>\n",
       "      <th>2</th>\n",
       "      <td>100</td>\n",
       "      <td>1</td>\n",
       "      <td>distance</td>\n",
       "      <td>{'n_neighbors': 100, 'p': 1, 'weights': 'dista...</td>\n",
       "      <td>0.935924</td>\n",
       "      <td>0.947891</td>\n",
       "      <td>0.949870</td>\n",
       "      <td>0.953728</td>\n",
       "      <td>0.949623</td>\n",
       "      <td>0.957219</td>\n",
       "      <td>...</td>\n",
       "      <td>0.961700</td>\n",
       "      <td>0.934593</td>\n",
       "      <td>0.956633</td>\n",
       "      <td>0.937778</td>\n",
       "      <td>0.926461</td>\n",
       "      <td>0.951539</td>\n",
       "      <td>0.966047</td>\n",
       "      <td>0.950238</td>\n",
       "      <td>0.009968</td>\n",
       "      <td>2</td>\n",
       "    </tr>\n",
       "    <tr>\n",
       "      <th>3</th>\n",
       "      <td>110</td>\n",
       "      <td>1</td>\n",
       "      <td>distance</td>\n",
       "      <td>{'n_neighbors': 110, 'p': 1, 'weights': 'dista...</td>\n",
       "      <td>0.934864</td>\n",
       "      <td>0.948979</td>\n",
       "      <td>0.949591</td>\n",
       "      <td>0.953024</td>\n",
       "      <td>0.948910</td>\n",
       "      <td>0.956490</td>\n",
       "      <td>...</td>\n",
       "      <td>0.961137</td>\n",
       "      <td>0.931762</td>\n",
       "      <td>0.957270</td>\n",
       "      <td>0.936875</td>\n",
       "      <td>0.929439</td>\n",
       "      <td>0.950935</td>\n",
       "      <td>0.965323</td>\n",
       "      <td>0.949942</td>\n",
       "      <td>0.009906</td>\n",
       "      <td>3</td>\n",
       "    </tr>\n",
       "    <tr>\n",
       "      <th>0</th>\n",
       "      <td>40</td>\n",
       "      <td>1</td>\n",
       "      <td>distance</td>\n",
       "      <td>{'n_neighbors': 40, 'p': 1, 'weights': 'distan...</td>\n",
       "      <td>0.935792</td>\n",
       "      <td>0.939700</td>\n",
       "      <td>0.948997</td>\n",
       "      <td>0.954697</td>\n",
       "      <td>0.953628</td>\n",
       "      <td>0.954600</td>\n",
       "      <td>...</td>\n",
       "      <td>0.960538</td>\n",
       "      <td>0.939562</td>\n",
       "      <td>0.956873</td>\n",
       "      <td>0.943006</td>\n",
       "      <td>0.918393</td>\n",
       "      <td>0.950281</td>\n",
       "      <td>0.967236</td>\n",
       "      <td>0.949418</td>\n",
       "      <td>0.010735</td>\n",
       "      <td>4</td>\n",
       "    </tr>\n",
       "    <tr>\n",
       "      <th>4</th>\n",
       "      <td>150</td>\n",
       "      <td>1</td>\n",
       "      <td>distance</td>\n",
       "      <td>{'n_neighbors': 150, 'p': 1, 'weights': 'dista...</td>\n",
       "      <td>0.933918</td>\n",
       "      <td>0.946803</td>\n",
       "      <td>0.947841</td>\n",
       "      <td>0.951443</td>\n",
       "      <td>0.947493</td>\n",
       "      <td>0.953623</td>\n",
       "      <td>...</td>\n",
       "      <td>0.962198</td>\n",
       "      <td>0.930942</td>\n",
       "      <td>0.954780</td>\n",
       "      <td>0.934505</td>\n",
       "      <td>0.928752</td>\n",
       "      <td>0.950281</td>\n",
       "      <td>0.963705</td>\n",
       "      <td>0.948274</td>\n",
       "      <td>0.009820</td>\n",
       "      <td>5</td>\n",
       "    </tr>\n",
       "  </tbody>\n",
       "</table>\n",
       "<p>5 rows × 27 columns</p>\n",
       "</div>"
      ],
      "text/plain": [
       "  param_n_neighbors param_p param_weights  \\\n",
       "1                50       1      distance   \n",
       "2               100       1      distance   \n",
       "3               110       1      distance   \n",
       "0                40       1      distance   \n",
       "4               150       1      distance   \n",
       "\n",
       "                                              params  split0_test_score  \\\n",
       "1  {'n_neighbors': 50, 'p': 1, 'weights': 'distan...           0.940815   \n",
       "2  {'n_neighbors': 100, 'p': 1, 'weights': 'dista...           0.935924   \n",
       "3  {'n_neighbors': 110, 'p': 1, 'weights': 'dista...           0.934864   \n",
       "0  {'n_neighbors': 40, 'p': 1, 'weights': 'distan...           0.935792   \n",
       "4  {'n_neighbors': 150, 'p': 1, 'weights': 'dista...           0.933918   \n",
       "\n",
       "   split1_test_score  split2_test_score  split3_test_score  split4_test_score  \\\n",
       "1           0.944257           0.953504           0.957732           0.953472   \n",
       "2           0.947891           0.949870           0.953728           0.949623   \n",
       "3           0.948979           0.949591           0.953024           0.948910   \n",
       "0           0.939700           0.948997           0.954697           0.953628   \n",
       "4           0.946803           0.947841           0.951443           0.947493   \n",
       "\n",
       "   split5_test_score  ...  split13_test_score  split14_test_score  \\\n",
       "1           0.955956  ...            0.961008            0.939535   \n",
       "2           0.957219  ...            0.961700            0.934593   \n",
       "3           0.956490  ...            0.961137            0.931762   \n",
       "0           0.954600  ...            0.960538            0.939562   \n",
       "4           0.953623  ...            0.962198            0.930942   \n",
       "\n",
       "   split15_test_score  split16_test_score  split17_test_score  \\\n",
       "1            0.957251            0.941586            0.920583   \n",
       "2            0.956633            0.937778            0.926461   \n",
       "3            0.957270            0.936875            0.929439   \n",
       "0            0.956873            0.943006            0.918393   \n",
       "4            0.954780            0.934505            0.928752   \n",
       "\n",
       "   split18_test_score  split19_test_score  mean_test_score  std_test_score  \\\n",
       "1            0.949285            0.967467         0.951163        0.010286   \n",
       "2            0.951539            0.966047         0.950238        0.009968   \n",
       "3            0.950935            0.965323         0.949942        0.009906   \n",
       "0            0.950281            0.967236         0.949418        0.010735   \n",
       "4            0.950281            0.963705         0.948274        0.009820   \n",
       "\n",
       "   rank_test_score  \n",
       "1                1  \n",
       "2                2  \n",
       "3                3  \n",
       "0                4  \n",
       "4                5  \n",
       "\n",
       "[5 rows x 27 columns]"
      ]
     },
     "metadata": {},
     "output_type": "display_data"
    },
    {
     "data": {
      "image/png": "[encoded data removed]",
      "text/plain": [
       "<Figure size 800x800 with 1 Axes>"
      ]
     },
     "metadata": {},
     "output_type": "display_data"
    }
   ],
   "source": [
    "\n",
    "#grid_knn_acc = KNeighborsClassifier(n_neighbors=165, weights = 'distance', p = 1, algorithm='brute')\n",
    "MyKNN = KNeighborsClassifier(algorithm='auto')\n",
    "grid_values = {'n_neighbors':[40,50,100,110,150], 'weights':['distance'], 'p':[1]}\n",
    "grid_knn_acc = GridSearchCV(MyKNN, param_grid = grid_values, scoring = 'roc_auc' , cv=20)\n",
    "grid_knn_acc.fit(X_shape, y)\n",
    "GridSearch_table_plot(grid_knn_acc, \"n_neighbors\", negative=False, display_all_params=False)\n"
   ]
  },
  {
   "cell_type": "markdown",
   "metadata": {},
   "source": [
    "### For SVM\n",
    "\n",
    "For SVM, I ran gridsearch for hyperparamater tuning. I maxed out iterations at 5000 for expediance's sake. Hyperparamter tuning for SVM was less clear than with kNN but a rbf kernel with the default gamma usually returned the best predicitons. GridSearch consistently gave me too large of a gamma which vastly overfit my model.\n",
    "\n",
    "I did use a weighted class balance as around 10% of the people in the hospital died."
   ]
  },
  {
   "cell_type": "code",
   "execution_count": 59,
   "id": "3e1589ec",
   "metadata": {},
   "outputs": [
    {
     "data": {
      "text/plain": [
       "'\\nfrom sklearn.svm import SVC\\nmy_SVM_model = SVC(class_weight=\\'balanced\\', max_iter=5000)\\ngrid_values = {\\'C\\':[1,0.1,0.01],\\'gamma\\': [0.1,0.5,1,\\'scale\\'], \\'kernel\\':[\\'linear\\',\\'rbf\\']}\\ngrid_svc_acc = GridSearchCV(my_SVM_model, param_grid = grid_values, scoring = \\'accuracy\\', cv=5)\\ngrid_svc_acc.fit(X_shape, y)\\nGridSearch_table_plot(grid_svc_acc, \"C\", negative=False, display_all_params=False)\\n'"
      ]
     },
     "execution_count": 59,
     "metadata": {},
     "output_type": "execute_result"
    }
   ],
   "source": [
    "'''\n",
    "from sklearn.svm import SVC\n",
    "my_SVM_model = SVC(class_weight='balanced', max_iter=5000)\n",
    "grid_values = {'C':[1,0.1,0.01],'gamma': [0.1,0.5,1,'scale'], 'kernel':['linear','rbf']}\n",
    "grid_svc_acc = GridSearchCV(my_SVM_model, param_grid = grid_values, scoring = 'accuracy', cv=5)\n",
    "grid_svc_acc.fit(X_shape, y)\n",
    "GridSearch_table_plot(grid_svc_acc, \"C\", negative=False, display_all_params=False)\n",
    "'''"
   ]
  },
  {
   "cell_type": "markdown",
   "metadata": {},
   "source": [
    "Running the actual SVM model."
   ]
  },
  {
   "cell_type": "code",
   "execution_count": 60,
   "id": "d2d2cb8d",
   "metadata": {},
   "outputs": [
    {
     "data": {
      "text/html": [
       "<style>#sk-container-id-4 {color: black;}#sk-container-id-4 pre{padding: 0;}#sk-container-id-4 div.sk-toggleable {background-color: white;}#sk-container-id-4 label.sk-toggleable__label {cursor: pointer;display: block;width: 100%;margin-bottom: 0;padding: 0.3em;box-sizing: border-box;text-align: center;}#sk-container-id-4 label.sk-toggleable__label-arrow:before {content: \"▸\";float: left;margin-right: 0.25em;color: #696969;}#sk-container-id-4 label.sk-toggleable__label-arrow:hover:before {color: black;}#sk-container-id-4 div.sk-estimator:hover label.sk-toggleable__label-arrow:before {color: black;}#sk-container-id-4 div.sk-toggleable__content {max-height: 0;max-width: 0;overflow: hidden;text-align: left;background-color: #f0f8ff;}#sk-container-id-4 div.sk-toggleable__content pre {margin: 0.2em;color: black;border-radius: 0.25em;background-color: #f0f8ff;}#sk-container-id-4 input.sk-toggleable__control:checked~div.sk-toggleable__content {max-height: 200px;max-width: 100%;overflow: auto;}#sk-container-id-4 input.sk-toggleable__control:checked~label.sk-toggleable__label-arrow:before {content: \"▾\";}#sk-container-id-4 div.sk-estimator input.sk-toggleable__control:checked~label.sk-toggleable__label {background-color: #d4ebff;}#sk-container-id-4 div.sk-label input.sk-toggleable__control:checked~label.sk-toggleable__label {background-color: #d4ebff;}#sk-container-id-4 input.sk-hidden--visually {border: 0;clip: rect(1px 1px 1px 1px);clip: rect(1px, 1px, 1px, 1px);height: 1px;margin: -1px;overflow: hidden;padding: 0;position: absolute;width: 1px;}#sk-container-id-4 div.sk-estimator {font-family: monospace;background-color: #f0f8ff;border: 1px dotted black;border-radius: 0.25em;box-sizing: border-box;margin-bottom: 0.5em;}#sk-container-id-4 div.sk-estimator:hover {background-color: #d4ebff;}#sk-container-id-4 div.sk-parallel-item::after {content: \"\";width: 100%;border-bottom: 1px solid gray;flex-grow: 1;}#sk-container-id-4 div.sk-label:hover label.sk-toggleable__label {background-color: #d4ebff;}#sk-container-id-4 div.sk-serial::before {content: \"\";position: absolute;border-left: 1px solid gray;box-sizing: border-box;top: 0;bottom: 0;left: 50%;z-index: 0;}#sk-container-id-4 div.sk-serial {display: flex;flex-direction: column;align-items: center;background-color: white;padding-right: 0.2em;padding-left: 0.2em;position: relative;}#sk-container-id-4 div.sk-item {position: relative;z-index: 1;}#sk-container-id-4 div.sk-parallel {display: flex;align-items: stretch;justify-content: center;background-color: white;position: relative;}#sk-container-id-4 div.sk-item::before, #sk-container-id-4 div.sk-parallel-item::before {content: \"\";position: absolute;border-left: 1px solid gray;box-sizing: border-box;top: 0;bottom: 0;left: 50%;z-index: -1;}#sk-container-id-4 div.sk-parallel-item {display: flex;flex-direction: column;z-index: 1;position: relative;background-color: white;}#sk-container-id-4 div.sk-parallel-item:first-child::after {align-self: flex-end;width: 50%;}#sk-container-id-4 div.sk-parallel-item:last-child::after {align-self: flex-start;width: 50%;}#sk-container-id-4 div.sk-parallel-item:only-child::after {width: 0;}#sk-container-id-4 div.sk-dashed-wrapped {border: 1px dashed gray;margin: 0 0.4em 0.5em 0.4em;box-sizing: border-box;padding-bottom: 0.4em;background-color: white;}#sk-container-id-4 div.sk-label label {font-family: monospace;font-weight: bold;display: inline-block;line-height: 1.2em;}#sk-container-id-4 div.sk-label-container {text-align: center;}#sk-container-id-4 div.sk-container {/* jupyter's `normalize.less` sets `[hidden] { display: none; }` but bootstrap.min.css set `[hidden] { display: none !important; }` so we also need the `!important` here to be able to override the default hidden behavior on the sphinx rendered scikit-learn.org. See: https://github.com/scikit-learn/scikit-learn/issues/21755 */display: inline-block !important;position: relative;}#sk-container-id-4 div.sk-text-repr-fallback {display: none;}</style><div id=\"sk-container-id-4\" class=\"sk-top-container\"><div class=\"sk-text-repr-fallback\"><pre>SVC(C=0.1, class_weight=&#x27;balanced&#x27;, probability=True)</pre><b>In a Jupyter environment, please rerun this cell to show the HTML representation or trust the notebook. <br />On GitHub, the HTML representation is unable to render, please try loading this page with nbviewer.org.</b></div><div class=\"sk-container\" hidden><div class=\"sk-item\"><div class=\"sk-estimator sk-toggleable\"><input class=\"sk-toggleable__control sk-hidden--visually\" id=\"sk-estimator-id-6\" type=\"checkbox\" checked><label for=\"sk-estimator-id-6\" class=\"sk-toggleable__label sk-toggleable__label-arrow\">SVC</label><div class=\"sk-toggleable__content\"><pre>SVC(C=0.1, class_weight=&#x27;balanced&#x27;, probability=True)</pre></div></div></div></div></div>"
      ],
      "text/plain": [
       "SVC(C=0.1, class_weight='balanced', probability=True)"
      ]
     },
     "execution_count": 60,
     "metadata": {},
     "output_type": "execute_result"
    }
   ],
   "source": [
    "\n",
    "from sklearn.svm import SVC\n",
    "new_SVM_model = SVC(C=0.1, gamma = 'scale',kernel= 'rbf', class_weight='balanced', probability= True)\n",
    "new_SVM_model.fit(X_shape,y)\n"
   ]
  },
  {
   "cell_type": "markdown",
   "id": "1dd8d255",
   "metadata": {},
   "source": [
    "Testing Out of Sample Data (Relevant for TrainTestSplit)"
   ]
  },
  {
   "cell_type": "code",
   "execution_count": 61,
   "id": "bc7eb155",
   "metadata": {},
   "outputs": [
    {
     "data": {
      "text/plain": [
       "0.9622991555279992"
      ]
     },
     "execution_count": 61,
     "metadata": {},
     "output_type": "execute_result"
    }
   ],
   "source": [
    "#y_pred_prob = grid_knn_acc.predict_proba(X_test)[:, 1]\n",
    "y_pred_prob = new_SVM_model.predict_proba(X_test)[:, 1]\n",
    "auc = roc_auc_score(y_test, y_pred_prob)\n",
    "auc"
   ]
  },
  {
   "cell_type": "markdown",
   "id": "65999341",
   "metadata": {},
   "source": [
    "## Predictions for Testing Data"
   ]
  },
  {
   "cell_type": "code",
   "execution_count": 62,
   "id": "5aaa5966",
   "metadata": {},
   "outputs": [
    {
     "data": {
      "text/plain": [
       "array([[1.        , 0.        ],\n",
       "       [0.77642625, 0.22357375],\n",
       "       [1.        , 0.        ],\n",
       "       ...,\n",
       "       [1.        , 0.        ],\n",
       "       [1.        , 0.        ],\n",
       "       [1.        , 0.        ]])"
      ]
     },
     "execution_count": 62,
     "metadata": {},
     "output_type": "execute_result"
    }
   ],
   "source": [
    "test_probs = grid_knn_acc.predict_proba(test)\n",
    "#test_probs = new_SVM_model.predict_proba(test)\n",
    "test_probs"
   ]
  },
  {
   "cell_type": "markdown",
   "metadata": {},
   "source": [
    "Reweighting SVM predictions:"
   ]
  },
  {
   "cell_type": "code",
   "execution_count": 63,
   "id": "251cba59",
   "metadata": {},
   "outputs": [
    {
     "data": {
      "text/plain": [
       "'\\nclass_weights = new_SVM_model.class_weight_\\ninverted_weights = 1.0 / class_weights\\nscaled_test_probs = test_probs * inverted_weights\\nscaled_test_probs\\n\\n#Some of the probabilites fell outside of [0,1]\\nscaled_test_probs = np.clip(scaled_test_probs, 0, 1)\\nscaled_test_probs\\n'"
      ]
     },
     "execution_count": 63,
     "metadata": {},
     "output_type": "execute_result"
    }
   ],
   "source": [
    "'''\n",
    "class_weights = new_SVM_model.class_weight_\n",
    "inverted_weights = 1.0 / class_weights\n",
    "scaled_test_probs = test_probs * inverted_weights\n",
    "scaled_test_probs\n",
    "\n",
    "#Some of the probabilites fell outside of [0,1]\n",
    "scaled_test_probs = np.clip(scaled_test_probs, 0, 1)\n",
    "scaled_test_probs\n",
    "'''"
   ]
  },
  {
   "cell_type": "code",
   "execution_count": 65,
   "id": "b5681aef",
   "metadata": {},
   "outputs": [
    {
     "name": "stderr",
     "output_type": "stream",
     "text": [
      "/var/folders/7g/swv044q57cq378zvy5rc1fj80000gn/T/ipykernel_54518/1047474413.py:2: SettingWithCopyWarning: \n",
      "A value is trying to be set on a copy of a slice from a DataFrame.\n",
      "Try using .loc[row_indexer,col_indexer] = value instead\n",
      "\n",
      "See the caveats in the documentation: https://pandas.pydata.org/pandas-docs/stable/user_guide/indexing.html#returning-a-view-versus-a-copy\n",
      "  predictions['HOSPITAL_EXPIRE_FLAG'] = list(test_probs[:,1])\n"
     ]
    },
    {
     "data": {
      "text/html": [
       "<div>\n",
       "<style scoped>\n",
       "    .dataframe tbody tr th:only-of-type {\n",
       "        vertical-align: middle;\n",
       "    }\n",
       "\n",
       "    .dataframe tbody tr th {\n",
       "        vertical-align: top;\n",
       "    }\n",
       "\n",
       "    .dataframe thead th {\n",
       "        text-align: right;\n",
       "    }\n",
       "</style>\n",
       "<table border=\"1\" class=\"dataframe\">\n",
       "  <thead>\n",
       "    <tr style=\"text-align: right;\">\n",
       "      <th></th>\n",
       "      <th>icustay_id</th>\n",
       "      <th>HOSPITAL_EXPIRE_FLAG</th>\n",
       "    </tr>\n",
       "  </thead>\n",
       "  <tbody>\n",
       "    <tr>\n",
       "      <th>0</th>\n",
       "      <td>208169</td>\n",
       "      <td>0.000000</td>\n",
       "    </tr>\n",
       "    <tr>\n",
       "      <th>1</th>\n",
       "      <td>251754</td>\n",
       "      <td>0.223574</td>\n",
       "    </tr>\n",
       "    <tr>\n",
       "      <th>2</th>\n",
       "      <td>242171</td>\n",
       "      <td>0.000000</td>\n",
       "    </tr>\n",
       "    <tr>\n",
       "      <th>3</th>\n",
       "      <td>263035</td>\n",
       "      <td>0.039469</td>\n",
       "    </tr>\n",
       "    <tr>\n",
       "      <th>4</th>\n",
       "      <td>279388</td>\n",
       "      <td>0.079875</td>\n",
       "    </tr>\n",
       "    <tr>\n",
       "      <th>...</th>\n",
       "      <td>...</td>\n",
       "      <td>...</td>\n",
       "    </tr>\n",
       "    <tr>\n",
       "      <th>5216</th>\n",
       "      <td>278087</td>\n",
       "      <td>0.059869</td>\n",
       "    </tr>\n",
       "    <tr>\n",
       "      <th>5217</th>\n",
       "      <td>266914</td>\n",
       "      <td>0.316867</td>\n",
       "    </tr>\n",
       "    <tr>\n",
       "      <th>5218</th>\n",
       "      <td>213413</td>\n",
       "      <td>0.000000</td>\n",
       "    </tr>\n",
       "    <tr>\n",
       "      <th>5219</th>\n",
       "      <td>286384</td>\n",
       "      <td>0.000000</td>\n",
       "    </tr>\n",
       "    <tr>\n",
       "      <th>5220</th>\n",
       "      <td>280741</td>\n",
       "      <td>0.000000</td>\n",
       "    </tr>\n",
       "  </tbody>\n",
       "</table>\n",
       "<p>5221 rows × 2 columns</p>\n",
       "</div>"
      ],
      "text/plain": [
       "      icustay_id  HOSPITAL_EXPIRE_FLAG\n",
       "0         208169              0.000000\n",
       "1         251754              0.223574\n",
       "2         242171              0.000000\n",
       "3         263035              0.039469\n",
       "4         279388              0.079875\n",
       "...          ...                   ...\n",
       "5216      278087              0.059869\n",
       "5217      266914              0.316867\n",
       "5218      213413              0.000000\n",
       "5219      286384              0.000000\n",
       "5220      280741              0.000000\n",
       "\n",
       "[5221 rows x 2 columns]"
      ]
     },
     "execution_count": 65,
     "metadata": {},
     "output_type": "execute_result"
    }
   ],
   "source": [
    "predictions = testset[['icustay_id']]\n",
    "predictions['HOSPITAL_EXPIRE_FLAG'] = list(test_probs[:,1])\n",
    "#predictions['HOSPITAL_EXPIRE_FLAG'] = list(scaled_test_probs[:,1])\n",
    "\n",
    "predictions.to_csv('kagglechen.csv', index = False)\n",
    "predictions"
   ]
  },
  {
   "cell_type": "markdown",
   "metadata": {},
   "source": [
    "## Conclusion"
   ]
  },
  {
   "cell_type": "markdown",
   "metadata": {},
   "source": [
    "PCA was helpful in kNN for reducing dimensionality of Vitals. I wonder if I could have used it more specifcially to target just blood pressure, or just heart rate. PCA could also be helpful in reducing dimensionality of the 23 additional ICD9 columns as there is crealy high correlation among them.\n",
    "\n",
    "Originally, I was using CDC data for a lot of the demographic data. I ended up switching to mean encoding as it was more beneficial. However, the issue with mean encoding is overfitting to the training data. Therefore, I used dummy varibales where I could. However, I do like my idea of using outside research like the CDC data but I would need more specific data regarding Emergency Room mortality.\n",
    "\n",
    "I imputed the mean for all the columns, which ended up working the best. However, This is probabily not the best method for all the columns. Given more time, I would've used different methods to impute different values depending on the skewness/type of data.\n",
    "\n",
    "Something that I thought about a lot was how to create interation terms between columns. I ended up not doing it but clearly if, say, you're two highest ICD9 diagnoses are both related to cardiac isseus, that is very different than if they one was a cardiac issue and the other was a gastrointestinal issue (I would presume with my limited medical knowlege)."
   ]
  }
 ],
 "metadata": {
  "kernelspec": {
   "display_name": "Python 3 (ipykernel)",
   "language": "python",
   "name": "python3"
  },
  "language_info": {
   "codemirror_mode": {
    "name": "ipython",
    "version": 3
   },
   "file_extension": ".py",
   "mimetype": "text/x-python",
   "name": "python",
   "nbconvert_exporter": "python",
   "pygments_lexer": "ipython3",
   "version": "3.11.4"
  }
 },
 "nbformat": 4,
 "nbformat_minor": 5
}
